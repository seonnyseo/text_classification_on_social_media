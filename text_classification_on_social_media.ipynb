{
  "nbformat": 4,
  "nbformat_minor": 0,
  "metadata": {
    "colab": {
      "name": "Group3_Classification_Model.ipynb",
      "provenance": [],
      "collapsed_sections": [],
      "toc_visible": true
    },
    "kernelspec": {
      "name": "python3",
      "display_name": "Python 3"
    }
  },
  "cells": [
    {
      "cell_type": "markdown",
      "metadata": {
        "id": "nZrXvxj5MniW",
        "colab_type": "text"
      },
      "source": [
        "###1.Collecting Tweets through Twitter API"
      ]
    },
    {
      "cell_type": "markdown",
      "metadata": {
        "id": "zK96CvHjIPV3",
        "colab_type": "text"
      },
      "source": [
        "Using Twitter API, we can collect information tweets includes user information, date, and tweets. For this, install and import Twitter API first."
      ]
    },
    {
      "cell_type": "code",
      "metadata": {
        "id": "PvvC2NniLpg7",
        "colab_type": "code",
        "outputId": "834807d3-cce7-4bca-b5ba-55c727623757",
        "colab": {
          "base_uri": "https://localhost:8080/",
          "height": 258
        }
      },
      "source": [
        "!pip install python-twitter\n",
        "import twitter\n",
        "import json"
      ],
      "execution_count": 0,
      "outputs": [
        {
          "output_type": "stream",
          "text": [
            "Collecting python-twitter\n",
            "\u001b[?25l  Downloading https://files.pythonhosted.org/packages/b3/a9/2eb36853d8ca49a70482e2332aa5082e09b3180391671101b1612e3aeaf1/python_twitter-3.5-py2.py3-none-any.whl (67kB)\n",
            "\u001b[K     |████████████████████████████████| 71kB 4.6MB/s \n",
            "\u001b[?25hRequirement already satisfied: future in /usr/local/lib/python3.6/dist-packages (from python-twitter) (0.16.0)\n",
            "Requirement already satisfied: requests in /usr/local/lib/python3.6/dist-packages (from python-twitter) (2.21.0)\n",
            "Requirement already satisfied: requests-oauthlib in /usr/local/lib/python3.6/dist-packages (from python-twitter) (1.2.0)\n",
            "Requirement already satisfied: idna<2.9,>=2.5 in /usr/local/lib/python3.6/dist-packages (from requests->python-twitter) (2.8)\n",
            "Requirement already satisfied: urllib3<1.25,>=1.21.1 in /usr/local/lib/python3.6/dist-packages (from requests->python-twitter) (1.24.3)\n",
            "Requirement already satisfied: certifi>=2017.4.17 in /usr/local/lib/python3.6/dist-packages (from requests->python-twitter) (2019.6.16)\n",
            "Requirement already satisfied: chardet<3.1.0,>=3.0.2 in /usr/local/lib/python3.6/dist-packages (from requests->python-twitter) (3.0.4)\n",
            "Requirement already satisfied: oauthlib>=3.0.0 in /usr/local/lib/python3.6/dist-packages (from requests-oauthlib->python-twitter) (3.1.0)\n",
            "Installing collected packages: python-twitter\n",
            "Successfully installed python-twitter-3.5\n"
          ],
          "name": "stdout"
        }
      ]
    },
    {
      "cell_type": "markdown",
      "metadata": {
        "id": "6EhK2nB8O9eI",
        "colab_type": "text"
      },
      "source": [
        "import keys.py file that contains twitter API user information to collect tweets from twitter"
      ]
    },
    {
      "cell_type": "code",
      "metadata": {
        "id": "6ea7cGVfL57X",
        "colab_type": "code",
        "outputId": "b0be8ab1-5aa7-4379-ffbc-efa0c9592b38",
        "colab": {
          "resources": {
            "http://localhost:8080/nbextensions/google.colab/files.js": {
              "data": "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",
              "ok": true,
              "headers": [
                [
                  "content-type",
                  "application/javascript"
                ]
              ],
              "status": 200,
              "status_text": ""
            }
          },
          "base_uri": "https://localhost:8080/",
          "height": 71
        }
      },
      "source": [
        "from google.colab import files\n",
        "src = list(files.upload().values())[0]\n",
        "open('mylib.py','wb').write(src)\n",
        "import mylib\n"
      ],
      "execution_count": 0,
      "outputs": [
        {
          "output_type": "display_data",
          "data": {
            "text/html": [
              "\n",
              "     <input type=\"file\" id=\"files-f0f0b2c9-0a24-419e-9ca3-52c9a54154e1\" name=\"files[]\" multiple disabled />\n",
              "     <output id=\"result-f0f0b2c9-0a24-419e-9ca3-52c9a54154e1\">\n",
              "      Upload widget is only available when the cell has been executed in the\n",
              "      current browser session. Please rerun this cell to enable.\n",
              "      </output>\n",
              "      <script src=\"/nbextensions/google.colab/files.js\"></script> "
            ],
            "text/plain": [
              "<IPython.core.display.HTML object>"
            ]
          },
          "metadata": {
            "tags": []
          }
        },
        {
          "output_type": "stream",
          "text": [
            "Saving keys.py to keys.py\n"
          ],
          "name": "stdout"
        }
      ]
    },
    {
      "cell_type": "code",
      "metadata": {
        "id": "RwD9GCeTRa2R",
        "colab_type": "code",
        "colab": {}
      },
      "source": [
        "import keys\n",
        "api = twitter.Api(consumer_key = keys.consumer_key,\n",
        "                 consumer_secret = keys.consumer_secret,\n",
        "                 access_token_key = keys.access_token,\n",
        "                 access_token_secret = keys.access_token_secret)"
      ],
      "execution_count": 0,
      "outputs": []
    },
    {
      "cell_type": "code",
      "metadata": {
        "id": "SOllbIdQMIq2",
        "colab_type": "code",
        "outputId": "bf42c762-29a5-48c1-dd96-7950cd7ba420",
        "colab": {
          "resources": {
            "http://localhost:8080/nbextensions/google.colab/files.js": {
              "data": "Ly8gQ29weXJpZ2h0IDIwMTcgR29vZ2xlIExMQwovLwovLyBMaWNlbnNlZCB1bmRlciB0aGUgQXBhY2hlIExpY2Vuc2UsIFZlcnNpb24gMi4wICh0aGUgIkxpY2Vuc2UiKTsKLy8geW91IG1heSBub3QgdXNlIHRoaXMgZmlsZSBleGNlcHQgaW4gY29tcGxpYW5jZSB3aXRoIHRoZSBMaWNlbnNlLgovLyBZb3UgbWF5IG9idGFpbiBhIGNvcHkgb2YgdGhlIExpY2Vuc2UgYXQKLy8KLy8gICAgICBodHRwOi8vd3d3LmFwYWNoZS5vcmcvbGljZW5zZXMvTElDRU5TRS0yLjAKLy8KLy8gVW5sZXNzIHJlcXVpcmVkIGJ5IGFwcGxpY2FibGUgbGF3IG9yIGFncmVlZCB0byBpbiB3cml0aW5nLCBzb2Z0d2FyZQovLyBkaXN0cmlidXRlZCB1bmRlciB0aGUgTGljZW5zZSBpcyBkaXN0cmlidXRlZCBvbiBhbiAiQVMgSVMiIEJBU0lTLAovLyBXSVRIT1VUIFdBUlJBTlRJRVMgT1IgQ09ORElUSU9OUyBPRiBBTlkgS0lORCwgZWl0aGVyIGV4cHJlc3Mgb3IgaW1wbGllZC4KLy8gU2VlIHRoZSBMaWNlbnNlIGZvciB0aGUgc3BlY2lmaWMgbGFuZ3VhZ2UgZ292ZXJuaW5nIHBlcm1pc3Npb25zIGFuZAovLyBsaW1pdGF0aW9ucyB1bmRlciB0aGUgTGljZW5zZS4KCi8qKgogKiBAZmlsZW92ZXJ2aWV3IEhlbHBlcnMgZm9yIGdvb2dsZS5jb2xhYiBQeXRob24gbW9kdWxlLgogKi8KKGZ1bmN0aW9uKHNjb3BlKSB7CmZ1bmN0aW9uIHNwYW4odGV4dCwgc3R5bGVBdHRyaWJ1dGVzID0ge30pIHsKICBjb25zdCBlbGVtZW50ID0gZG9jdW1lbnQuY3JlYXRlRWxlbWVudCgnc3BhbicpOwogIGVsZW1lbnQudGV4dENvbnRlbnQgPSB0ZXh0OwogIGZvciAoY29uc3Qga2V5IG9mIE9iamVjdC5rZXlzKHN0eWxlQXR0cmlidXRlcykpIHsKICAgIGVsZW1lbnQuc3R5bGVba2V5XSA9IHN0eWxlQXR0cmlidXRlc1trZXldOwogIH0KICByZXR1cm4gZWxlbWVudDsKfQoKLy8gTWF4IG51bWJlciBvZiBieXRlcyB3aGljaCB3aWxsIGJlIHVwbG9hZGVkIGF0IGEgdGltZS4KY29uc3QgTUFYX1BBWUxPQURfU0laRSA9IDEwMCAqIDEwMjQ7Ci8vIE1heCBhbW91bnQgb2YgdGltZSB0byBibG9jayB3YWl0aW5nIGZvciB0aGUgdXNlci4KY29uc3QgRklMRV9DSEFOR0VfVElNRU9VVF9NUyA9IDMwICogMTAwMDsKCmZ1bmN0aW9uIF91cGxvYWRGaWxlcyhpbnB1dElkLCBvdXRwdXRJZCkgewogIGNvbnN0IHN0ZXBzID0gdXBsb2FkRmlsZXNTdGVwKGlucHV0SWQsIG91dHB1dElkKTsKICBjb25zdCBvdXRwdXRFbGVtZW50ID0gZG9jdW1lbnQuZ2V0RWxlbWVudEJ5SWQob3V0cHV0SWQpOwogIC8vIENhY2hlIHN0ZXBzIG9uIHRoZSBvdXRwdXRFbGVtZW50IHRvIG1ha2UgaXQgYXZhaWxhYmxlIGZvciB0aGUgbmV4dCBjYWxsCiAgLy8gdG8gdXBsb2FkRmlsZXNDb250aW51ZSBmcm9tIFB5dGhvbi4KICBvdXRwdXRFbGVtZW50LnN0ZXBzID0gc3RlcHM7CgogIHJldHVybiBfdXBsb2FkRmlsZXNDb250aW51ZShvdXRwdXRJZCk7Cn0KCi8vIFRoaXMgaXMgcm91Z2hseSBhbiBhc3luYyBnZW5lcmF0b3IgKG5vdCBzdXBwb3J0ZWQgaW4gdGhlIGJyb3dzZXIgeWV0KSwKLy8gd2hlcmUgdGhlcmUgYXJlIG11bHRpcGxlIGFzeW5jaHJvbm91cyBzdGVwcyBhbmQgdGhlIFB5dGhvbiBzaWRlIGlzIGdvaW5nCi8vIHRvIHBvbGwgZm9yIGNvbXBsZXRpb24gb2YgZWFjaCBzdGVwLgovLyBUaGlzIHVzZXMgYSBQcm9taXNlIHRvIGJsb2NrIHRoZSBweXRob24gc2lkZSBvbiBjb21wbGV0aW9uIG9mIGVhY2ggc3RlcCwKLy8gdGhlbiBwYXNzZXMgdGhlIHJlc3VsdCBvZiB0aGUgcHJldmlvdXMgc3RlcCBhcyB0aGUgaW5wdXQgdG8gdGhlIG5leHQgc3RlcC4KZnVuY3Rpb24gX3VwbG9hZEZpbGVzQ29udGludWUob3V0cHV0SWQpIHsKICBjb25zdCBvdXRwdXRFbGVtZW50ID0gZG9jdW1lbnQuZ2V0RWxlbWVudEJ5SWQob3V0cHV0SWQpOwogIGNvbnN0IHN0ZXBzID0gb3V0cHV0RWxlbWVudC5zdGVwczsKCiAgY29uc3QgbmV4dCA9IHN0ZXBzLm5leHQob3V0cHV0RWxlbWVudC5sYXN0UHJvbWlzZVZhbHVlKTsKICByZXR1cm4gUHJvbWlzZS5yZXNvbHZlKG5leHQudmFsdWUucHJvbWlzZSkudGhlbigodmFsdWUpID0+IHsKICAgIC8vIENhY2hlIHRoZSBsYXN0IHByb21pc2UgdmFsdWUgdG8gbWFrZSBpdCBhdmFpbGFibGUgdG8gdGhlIG5leHQKICAgIC8vIHN0ZXAgb2YgdGhlIGdlbmVyYXRvci4KICAgIG91dHB1dEVsZW1lbnQubGFzdFByb21pc2VWYWx1ZSA9IHZhbHVlOwogICAgcmV0dXJuIG5leHQudmFsdWUucmVzcG9uc2U7CiAgfSk7Cn0KCi8qKgogKiBHZW5lcmF0b3IgZnVuY3Rpb24gd2hpY2ggaXMgY2FsbGVkIGJldHdlZW4gZWFjaCBhc3luYyBzdGVwIG9mIHRoZSB1cGxvYWQKICogcHJvY2Vzcy4KICogQHBhcmFtIHtzdHJpbmd9IGlucHV0SWQgRWxlbWVudCBJRCBvZiB0aGUgaW5wdXQgZmlsZSBwaWNrZXIgZWxlbWVudC4KICogQHBhcmFtIHtzdHJpbmd9IG91dHB1dElkIEVsZW1lbnQgSUQgb2YgdGhlIG91dHB1dCBkaXNwbGF5LgogKiBAcmV0dXJuIHshSXRlcmFibGU8IU9iamVjdD59IEl0ZXJhYmxlIG9mIG5leHQgc3RlcHMuCiAqLwpmdW5jdGlvbiogdXBsb2FkRmlsZXNTdGVwKGlucHV0SWQsIG91dHB1dElkKSB7CiAgY29uc3QgaW5wdXRFbGVtZW50ID0gZG9jdW1lbnQuZ2V0RWxlbWVudEJ5SWQoaW5wdXRJZCk7CiAgaW5wdXRFbGVtZW50LmRpc2FibGVkID0gZmFsc2U7CgogIGNvbnN0IG91dHB1dEVsZW1lbnQgPSBkb2N1bWVudC5nZXRFbGVtZW50QnlJZChvdXRwdXRJZCk7CiAgb3V0cHV0RWxlbWVudC5pbm5lckhUTUwgPSAnJzsKCiAgY29uc3QgcGlja2VkUHJvbWlzZSA9IG5ldyBQcm9taXNlKChyZXNvbHZlKSA9PiB7CiAgICBpbnB1dEVsZW1lbnQuYWRkRXZlbnRMaXN0ZW5lcignY2hhbmdlJywgKGUpID0+IHsKICAgICAgcmVzb2x2ZShlLnRhcmdldC5maWxlcyk7CiAgICB9KTsKICB9KTsKCiAgY29uc3QgY2FuY2VsID0gZG9jdW1lbnQuY3JlYXRlRWxlbWVudCgnYnV0dG9uJyk7CiAgaW5wdXRFbGVtZW50LnBhcmVudEVsZW1lbnQuYXBwZW5kQ2hpbGQoY2FuY2VsKTsKICBjYW5jZWwudGV4dENvbnRlbnQgPSAnQ2FuY2VsIHVwbG9hZCc7CiAgY29uc3QgY2FuY2VsUHJvbWlzZSA9IG5ldyBQcm9taXNlKChyZXNvbHZlKSA9PiB7CiAgICBjYW5jZWwub25jbGljayA9ICgpID0+IHsKICAgICAgcmVzb2x2ZShudWxsKTsKICAgIH07CiAgfSk7CgogIC8vIENhbmNlbCB1cGxvYWQgaWYgdXNlciBoYXNuJ3QgcGlja2VkIGFueXRoaW5nIGluIHRpbWVvdXQuCiAgY29uc3QgdGltZW91dFByb21pc2UgPSBuZXcgUHJvbWlzZSgocmVzb2x2ZSkgPT4gewogICAgc2V0VGltZW91dCgoKSA9PiB7CiAgICAgIHJlc29sdmUobnVsbCk7CiAgICB9LCBGSUxFX0NIQU5HRV9USU1FT1VUX01TKTsKICB9KTsKCiAgLy8gV2FpdCBmb3IgdGhlIHVzZXIgdG8gcGljayB0aGUgZmlsZXMuCiAgY29uc3QgZmlsZXMgPSB5aWVsZCB7CiAgICBwcm9taXNlOiBQcm9taXNlLnJhY2UoW3BpY2tlZFByb21pc2UsIHRpbWVvdXRQcm9taXNlLCBjYW5jZWxQcm9taXNlXSksCiAgICByZXNwb25zZTogewogICAgICBhY3Rpb246ICdzdGFydGluZycsCiAgICB9CiAgfTsKCiAgaWYgKCFmaWxlcykgewogICAgcmV0dXJuIHsKICAgICAgcmVzcG9uc2U6IHsKICAgICAgICBhY3Rpb246ICdjb21wbGV0ZScsCiAgICAgIH0KICAgIH07CiAgfQoKICBjYW5jZWwucmVtb3ZlKCk7CgogIC8vIERpc2FibGUgdGhlIGlucHV0IGVsZW1lbnQgc2luY2UgZnVydGhlciBwaWNrcyBhcmUgbm90IGFsbG93ZWQuCiAgaW5wdXRFbGVtZW50LmRpc2FibGVkID0gdHJ1ZTsKCiAgZm9yIChjb25zdCBmaWxlIG9mIGZpbGVzKSB7CiAgICBjb25zdCBsaSA9IGRvY3VtZW50LmNyZWF0ZUVsZW1lbnQoJ2xpJyk7CiAgICBsaS5hcHBlbmQoc3BhbihmaWxlLm5hbWUsIHtmb250V2VpZ2h0OiAnYm9sZCd9KSk7CiAgICBsaS5hcHBlbmQoc3BhbigKICAgICAgICBgKCR7ZmlsZS50eXBlIHx8ICduL2EnfSkgLSAke2ZpbGUuc2l6ZX0gYnl0ZXMsIGAgKwogICAgICAgIGBsYXN0IG1vZGlmaWVkOiAkewogICAgICAgICAgICBmaWxlLmxhc3RNb2RpZmllZERhdGUgPyBmaWxlLmxhc3RNb2RpZmllZERhdGUudG9Mb2NhbGVEYXRlU3RyaW5nKCkgOgogICAgICAgICAgICAgICAgICAgICAgICAgICAgICAgICAgICAnbi9hJ30gLSBgKSk7CiAgICBjb25zdCBwZXJjZW50ID0gc3BhbignMCUgZG9uZScpOwogICAgbGkuYXBwZW5kQ2hpbGQocGVyY2VudCk7CgogICAgb3V0cHV0RWxlbWVudC5hcHBlbmRDaGlsZChsaSk7CgogICAgY29uc3QgZmlsZURhdGFQcm9taXNlID0gbmV3IFByb21pc2UoKHJlc29sdmUpID0+IHsKICAgICAgY29uc3QgcmVhZGVyID0gbmV3IEZpbGVSZWFkZXIoKTsKICAgICAgcmVhZGVyLm9ubG9hZCA9IChlKSA9PiB7CiAgICAgICAgcmVzb2x2ZShlLnRhcmdldC5yZXN1bHQpOwogICAgICB9OwogICAgICByZWFkZXIucmVhZEFzQXJyYXlCdWZmZXIoZmlsZSk7CiAgICB9KTsKICAgIC8vIFdhaXQgZm9yIHRoZSBkYXRhIHRvIGJlIHJlYWR5LgogICAgbGV0IGZpbGVEYXRhID0geWllbGQgewogICAgICBwcm9taXNlOiBmaWxlRGF0YVByb21pc2UsCiAgICAgIHJlc3BvbnNlOiB7CiAgICAgICAgYWN0aW9uOiAnY29udGludWUnLAogICAgICB9CiAgICB9OwoKICAgIC8vIFVzZSBhIGNodW5rZWQgc2VuZGluZyB0byBhdm9pZCBtZXNzYWdlIHNpemUgbGltaXRzLiBTZWUgYi82MjExNTY2MC4KICAgIGxldCBwb3NpdGlvbiA9IDA7CiAgICB3aGlsZSAocG9zaXRpb24gPCBmaWxlRGF0YS5ieXRlTGVuZ3RoKSB7CiAgICAgIGNvbnN0IGxlbmd0aCA9IE1hdGgubWluKGZpbGVEYXRhLmJ5dGVMZW5ndGggLSBwb3NpdGlvbiwgTUFYX1BBWUxPQURfU0laRSk7CiAgICAgIGNvbnN0IGNodW5rID0gbmV3IFVpbnQ4QXJyYXkoZmlsZURhdGEsIHBvc2l0aW9uLCBsZW5ndGgpOwogICAgICBwb3NpdGlvbiArPSBsZW5ndGg7CgogICAgICBjb25zdCBiYXNlNjQgPSBidG9hKFN0cmluZy5mcm9tQ2hhckNvZGUuYXBwbHkobnVsbCwgY2h1bmspKTsKICAgICAgeWllbGQgewogICAgICAgIHJlc3BvbnNlOiB7CiAgICAgICAgICBhY3Rpb246ICdhcHBlbmQnLAogICAgICAgICAgZmlsZTogZmlsZS5uYW1lLAogICAgICAgICAgZGF0YTogYmFzZTY0LAogICAgICAgIH0sCiAgICAgIH07CiAgICAgIHBlcmNlbnQudGV4dENvbnRlbnQgPQogICAgICAgICAgYCR7TWF0aC5yb3VuZCgocG9zaXRpb24gLyBmaWxlRGF0YS5ieXRlTGVuZ3RoKSAqIDEwMCl9JSBkb25lYDsKICAgIH0KICB9CgogIC8vIEFsbCBkb25lLgogIHlpZWxkIHsKICAgIHJlc3BvbnNlOiB7CiAgICAgIGFjdGlvbjogJ2NvbXBsZXRlJywKICAgIH0KICB9Owp9CgpzY29wZS5nb29nbGUgPSBzY29wZS5nb29nbGUgfHwge307CnNjb3BlLmdvb2dsZS5jb2xhYiA9IHNjb3BlLmdvb2dsZS5jb2xhYiB8fCB7fTsKc2NvcGUuZ29vZ2xlLmNvbGFiLl9maWxlcyA9IHsKICBfdXBsb2FkRmlsZXMsCiAgX3VwbG9hZEZpbGVzQ29udGludWUsCn07Cn0pKHNlbGYpOwo=",
              "ok": true,
              "headers": [
                [
                  "content-type",
                  "application/javascript"
                ]
              ],
              "status": 200,
              "status_text": ""
            }
          },
          "base_uri": "https://localhost:8080/",
          "height": 88
        }
      },
      "source": [
        "from google.colab import files\n",
        "uploaded = files.upload()\n",
        "for fn in uploaded.keys():\n",
        "  print('User uploaded file \"{name}\" with length {length} bytes'.format(\n",
        "  name = fn, length = len(uploaded[fn])))"
      ],
      "execution_count": 0,
      "outputs": [
        {
          "output_type": "display_data",
          "data": {
            "text/html": [
              "\n",
              "     <input type=\"file\" id=\"files-c423007e-c49b-47fa-866e-6092b97d5ca3\" name=\"files[]\" multiple disabled />\n",
              "     <output id=\"result-c423007e-c49b-47fa-866e-6092b97d5ca3\">\n",
              "      Upload widget is only available when the cell has been executed in the\n",
              "      current browser session. Please rerun this cell to enable.\n",
              "      </output>\n",
              "      <script src=\"/nbextensions/google.colab/files.js\"></script> "
            ],
            "text/plain": [
              "<IPython.core.display.HTML object>"
            ]
          },
          "metadata": {
            "tags": []
          }
        },
        {
          "output_type": "stream",
          "text": [
            "Saving drug_safety_data.txt to drug_safety_data.txt\n",
            "User uploaded file \"drug_safety_data.txt\" with length 185065 bytes\n"
          ],
          "name": "stdout"
        }
      ]
    },
    {
      "cell_type": "markdown",
      "metadata": {
        "id": "4gXFSyslPZzi",
        "colab_type": "text"
      },
      "source": [
        "Tweets ids and twitter user ids are in 'drug_safety_data.txt' file. \n",
        "\n",
        "1. Collect tweets information that we will refer through twitter API\n",
        "2. The data are stored as json format\n",
        "3. Text in below shows how it is constructed \n",
        "\n"
      ]
    },
    {
      "cell_type": "code",
      "metadata": {
        "id": "JNwJFUc1KlHJ",
        "colab_type": "code",
        "colab": {}
      },
      "source": [
        ""
      ],
      "execution_count": 0,
      "outputs": []
    },
    {
      "cell_type": "code",
      "metadata": {
        "id": "_k7HqmJLMP5h",
        "colab_type": "code",
        "outputId": "c8e4b531-1ed2-4363-9354-d7c21e7169df",
        "colab": {
          "base_uri": "https://localhost:8080/",
          "height": 1000
        }
      },
      "source": [
        "import pandas as pd\n",
        "drugTweets = pd.read_csv('drug_safety_data.txt', delimiter = '\\t', header = None, names = ['tweet_id', 'twitter_user_id', 'abuse'])\n",
        "drugTweets = drugTweets.drop_duplicates()\n",
        "drugTweets_text = api.GetStatuses(drugTweets.tweet_id)\n",
        "txts = []\n",
        "for tweet in drugTweets_text:\n",
        "  txts.append(json.loads(json.dumps(tweet._json)))\n",
        "txts[0]"
      ],
      "execution_count": 0,
      "outputs": [
        {
          "output_type": "execute_result",
          "data": {
            "text/plain": [
              "{'contributors': None,\n",
              " 'coordinates': None,\n",
              " 'created_at': 'Sun May 12 18:08:41 +0000 2013',\n",
              " 'entities': {'hashtags': [], 'symbols': [], 'urls': [], 'user_mentions': []},\n",
              " 'favorite_count': 0,\n",
              " 'favorited': False,\n",
              " 'geo': None,\n",
              " 'id': 333644914913079296,\n",
              " 'id_str': '333644914913079296',\n",
              " 'in_reply_to_screen_name': None,\n",
              " 'in_reply_to_status_id': None,\n",
              " 'in_reply_to_status_id_str': None,\n",
              " 'in_reply_to_user_id': None,\n",
              " 'in_reply_to_user_id_str': None,\n",
              " 'is_quote_status': False,\n",
              " 'lang': 'en',\n",
              " 'place': None,\n",
              " 'retweet_count': 0,\n",
              " 'retweeted': False,\n",
              " 'source': '<a href=\"http://twitter.com/download/iphone\" rel=\"nofollow\">Twitter for iPhone</a>',\n",
              " 'text': 'i know for a FACT that alcohol does not deplete the seroquel levels in your blood, YET HERE WE ARE',\n",
              " 'truncated': False,\n",
              " 'user': {'contributors_enabled': False,\n",
              "  'created_at': 'Fri Dec 24 03:45:56 +0000 2010',\n",
              "  'default_profile': False,\n",
              "  'default_profile_image': False,\n",
              "  'description': 'revive prime suspect (2011 - 2012)',\n",
              "  'entities': {'description': {'urls': []},\n",
              "   'url': {'urls': [{'display_url': 'nastyratched.tumblr.com',\n",
              "      'expanded_url': 'http://nastyratched.tumblr.com',\n",
              "      'indices': [0, 23],\n",
              "      'url': 'https://t.co/Ce4IWf7ziQ'}]}},\n",
              "  'favourites_count': 55542,\n",
              "  'follow_request_sent': False,\n",
              "  'followers_count': 178,\n",
              "  'following': False,\n",
              "  'friends_count': 570,\n",
              "  'geo_enabled': True,\n",
              "  'has_extended_profile': False,\n",
              "  'id': 230052171,\n",
              "  'id_str': '230052171',\n",
              "  'is_translation_enabled': False,\n",
              "  'is_translator': False,\n",
              "  'lang': None,\n",
              "  'listed_count': 4,\n",
              "  'location': 'perth, western australia',\n",
              "  'name': 'john s. lithgoat',\n",
              "  'notifications': False,\n",
              "  'profile_background_color': 'CCCCCC',\n",
              "  'profile_background_image_url': 'http://abs.twimg.com/images/themes/theme1/bg.png',\n",
              "  'profile_background_image_url_https': 'https://abs.twimg.com/images/themes/theme1/bg.png',\n",
              "  'profile_background_tile': True,\n",
              "  'profile_banner_url': 'https://pbs.twimg.com/profile_banners/230052171/1516295902',\n",
              "  'profile_image_url': 'http://pbs.twimg.com/profile_images/1054691338610913280/oINSEFmk_normal.jpg',\n",
              "  'profile_image_url_https': 'https://pbs.twimg.com/profile_images/1054691338610913280/oINSEFmk_normal.jpg',\n",
              "  'profile_link_color': '999999',\n",
              "  'profile_sidebar_border_color': '000000',\n",
              "  'profile_sidebar_fill_color': '333333',\n",
              "  'profile_text_color': '666666',\n",
              "  'profile_use_background_image': False,\n",
              "  'protected': False,\n",
              "  'screen_name': 'pants2match',\n",
              "  'statuses_count': 33777,\n",
              "  'time_zone': None,\n",
              "  'translator_type': 'none',\n",
              "  'url': 'https://t.co/Ce4IWf7ziQ',\n",
              "  'utc_offset': None,\n",
              "  'verified': False}}"
            ]
          },
          "metadata": {
            "tags": []
          },
          "execution_count": 5
        }
      ]
    },
    {
      "cell_type": "markdown",
      "metadata": {
        "id": "435Tebv7QW8f",
        "colab_type": "text"
      },
      "source": [
        "From the json format, take out necessary information such as user_ids and texts"
      ]
    },
    {
      "cell_type": "code",
      "metadata": {
        "id": "7Tjx3WSJMgD2",
        "colab_type": "code",
        "colab": {}
      },
      "source": [
        "ids = []\n",
        "text = []\n",
        "for line in txts:\n",
        "  ids.append(line['id'])\n",
        "  text.append(line['text'])"
      ],
      "execution_count": 0,
      "outputs": []
    },
    {
      "cell_type": "markdown",
      "metadata": {
        "id": "p-qYCV8YMwXj",
        "colab_type": "text"
      },
      "source": [
        "###2.Text pre-processing"
      ]
    },
    {
      "cell_type": "markdown",
      "metadata": {
        "id": "1gC5uc2DJPZW",
        "colab_type": "text"
      },
      "source": [
        "Tweets were written in the informal language in most cases, and included reserved words related to Twitter. To improve machine learning models performance, it is required to clean unnecessary text up to teach models clearly. "
      ]
    },
    {
      "cell_type": "code",
      "metadata": {
        "id": "L0HksoeyXqqA",
        "colab_type": "code",
        "colab": {}
      },
      "source": [
        ""
      ],
      "execution_count": 0,
      "outputs": []
    },
    {
      "cell_type": "markdown",
      "metadata": {
        "id": "L7_ZHDBFOQLb",
        "colab_type": "text"
      },
      "source": [
        "####1.Remove Twitter reserved word"
      ]
    },
    {
      "cell_type": "code",
      "metadata": {
        "id": "uO8mYvppM1g1",
        "colab_type": "code",
        "outputId": "e14ff7aa-defd-4c10-ba1e-e5f8508beaa4",
        "colab": {
          "base_uri": "https://localhost:8080/",
          "height": 190
        }
      },
      "source": [
        "!pip install tweet-preprocessor\n",
        "import preprocessor as p"
      ],
      "execution_count": 0,
      "outputs": [
        {
          "output_type": "stream",
          "text": [
            "Collecting tweet-preprocessor\n",
            "  Downloading https://files.pythonhosted.org/packages/2a/f8/810ec35c31cca89bc4f1a02c14b042b9ec6c19dd21f7ef1876874ef069a6/tweet-preprocessor-0.5.0.tar.gz\n",
            "Building wheels for collected packages: tweet-preprocessor\n",
            "  Building wheel for tweet-preprocessor (setup.py) ... \u001b[?25l\u001b[?25hdone\n",
            "  Created wheel for tweet-preprocessor: filename=tweet_preprocessor-0.5.0-cp36-none-any.whl size=7946 sha256=d7bdb1b8e01bb419d1466c4c846844d6f8e02e65bf0986cc5814632499f7228f\n",
            "  Stored in directory: /root/.cache/pip/wheels/1b/27/cc/49938e98a2470802ebdefae9d2b3f524768e970c1ebbe2dc4a\n",
            "Successfully built tweet-preprocessor\n",
            "Installing collected packages: tweet-preprocessor\n",
            "Successfully installed tweet-preprocessor-0.5.0\n"
          ],
          "name": "stdout"
        }
      ]
    },
    {
      "cell_type": "markdown",
      "metadata": {
        "id": "r5RRQ9T5Oerk",
        "colab_type": "text"
      },
      "source": [
        "tweet-preprocessor library supports to remove these text.\n",
        "\n",
        "\n",
        "1.   URLs\n",
        "2.   Hashtags\n",
        "3.   Mentions\n",
        "4.   Reserved words (RT, FAV)\n",
        "5.   Emojis\n",
        "6.   Smileys\n",
        "7.   Number"
      ]
    },
    {
      "cell_type": "code",
      "metadata": {
        "id": "3xyfQn5QM7D0",
        "colab_type": "code",
        "outputId": "34c427e0-6a42-4e22-9275-83e55bc82239",
        "colab": {
          "base_uri": "https://localhost:8080/",
          "height": 51
        }
      },
      "source": [
        "text_clean = []\n",
        "for line in text:\n",
        "  text_clean.append(p.clean(line))\n",
        "print('Before : {}'.format(text[1]))\n",
        "print('After  : {}'.format(text_clean[1]))"
      ],
      "execution_count": 0,
      "outputs": [
        {
          "output_type": "stream",
          "text": [
            "Before : @Scribble_Dragon 50 mg Seroquel with my ‘normal’ 60 mg Lovan and 750 mcg Clonazepam.\n",
            "After  : mg Seroquel with my ‘normal’ mg Lovan and mcg Clonazepam.\n"
          ],
          "name": "stdout"
        }
      ]
    },
    {
      "cell_type": "markdown",
      "metadata": {
        "id": "q7-K97IFP2YX",
        "colab_type": "text"
      },
      "source": [
        "After cleaning twitter reserved words, put this on the data frame that includes tweet_id, user_id and classfication label information."
      ]
    },
    {
      "cell_type": "code",
      "metadata": {
        "id": "DO80Q22pM_HF",
        "colab_type": "code",
        "colab": {}
      },
      "source": [
        "tweets_w_text = pd.DataFrame(list(zip(ids, text_clean)), columns = ['tweet_id', 'text_text'])\n",
        "drugTweets_df = pd.merge(tweets_w_text, drugTweets, on = 'tweet_id', how = 'inner')"
      ],
      "execution_count": 0,
      "outputs": []
    },
    {
      "cell_type": "markdown",
      "metadata": {
        "id": "n3ZxZ-bqOlUX",
        "colab_type": "text"
      },
      "source": [
        "####2.Stopwords / Lowercase / Stemming"
      ]
    },
    {
      "cell_type": "markdown",
      "metadata": {
        "id": "Z5ULizQcYShT",
        "colab_type": "text"
      },
      "source": [
        "Besides removing Twitter words, we can remove stopwords that would not give important information and lowercase every text for avoiding counting same words several times. Also, we decide to apply stemming to reduce inflected words to their word stem."
      ]
    },
    {
      "cell_type": "code",
      "metadata": {
        "id": "3GrnyPFERWvr",
        "colab_type": "code",
        "outputId": "a90592cd-eb2c-4f86-f789-6c37a814218e",
        "colab": {
          "base_uri": "https://localhost:8080/",
          "height": 51
        }
      },
      "source": [
        "import nltk\n",
        "import re\n",
        "nltk.download('stopwords')\n",
        "from nltk.tokenize import RegexpTokenizer\n",
        "from nltk.corpus import stopwords"
      ],
      "execution_count": 0,
      "outputs": [
        {
          "output_type": "stream",
          "text": [
            "[nltk_data] Downloading package stopwords to /root/nltk_data...\n",
            "[nltk_data]   Unzipping corpora/stopwords.zip.\n"
          ],
          "name": "stdout"
        }
      ]
    },
    {
      "cell_type": "markdown",
      "metadata": {
        "id": "femVI2A9dujC",
        "colab_type": "text"
      },
      "source": [
        "'fix_text' function includes removing stopwords, stemming, lowercasing and removing special characters. "
      ]
    },
    {
      "cell_type": "code",
      "metadata": {
        "id": "Y3YjCNv6R1Rn",
        "colab_type": "code",
        "colab": {}
      },
      "source": [
        "stop_words = set(stopwords.words(\"english\"))\n",
        "snow = nltk.stem.SnowballStemmer('english')\n",
        "\n",
        "def fix_Text(text):\n",
        "\tletters_only = re.sub(\"[^a-zA-Z]\",\" \", str(text))\n",
        "\twords=letters_only.lower().split()\n",
        "\tmeaningful=[snow.stem(word) for word in words if word not in stop_words]\n",
        "\treturn(\" \".join(meaningful))"
      ],
      "execution_count": 0,
      "outputs": []
    },
    {
      "cell_type": "code",
      "metadata": {
        "id": "kbDAvYOASWKP",
        "colab_type": "code",
        "outputId": "56cb10a2-fe84-4fe3-89f6-1acd034cdf0a",
        "colab": {
          "base_uri": "https://localhost:8080/",
          "height": 51
        }
      },
      "source": [
        "num_resp = drugTweets_df[\"text_text\"].size\n",
        "print(\"Before : {}\".format(drugTweets_df['text_text'][2]))\n",
        "clean_text = []\n",
        "for i in range(0,num_resp):\n",
        "\tclean_text.append(fix_Text(drugTweets_df[\"text_text\"][i]))\n",
        "\n",
        "print(\"After : {}\".format(clean_text[2]))"
      ],
      "execution_count": 0,
      "outputs": [
        {
          "output_type": "stream",
          "text": [
            "Before : SEVEN missed calls? get you're seroquel mg lowered. you're getting ridiculous\n",
            "After : seven miss call get seroquel mg lower get ridicul\n"
          ],
          "name": "stdout"
        }
      ]
    },
    {
      "cell_type": "markdown",
      "metadata": {
        "id": "-ZeK41hqe3kh",
        "colab_type": "text"
      },
      "source": [
        "Also we found that twitter users use two words for one medicine such and also they type energy drink 'red bull' or 'redbull'. We thought it is reasonable to count these words together. Also, even we removed special characters, broken codes are still in text such as 'amp', 'lt,' and 'gt' because thoese are alphabet characters. So we made a function that change specific words, and remove the broken codes. "
      ]
    },
    {
      "cell_type": "code",
      "metadata": {
        "id": "kapRuicRY_Bq",
        "colab_type": "code",
        "colab": {}
      },
      "source": [
        "word_list = {'quetiapin' : 'seroquel', 'oxycontin' : 'oxycodone', 'red bull' : 'redbull', 'amp':'', 'lt':'', 'gt':''}\n",
        "\n",
        "def change_word(text):\n",
        "  for key in list(word_list.keys()):\n",
        "    if key in text:\n",
        "      text = text.replace(key, word_list[key])\n",
        "\n",
        "  return text"
      ],
      "execution_count": 0,
      "outputs": []
    },
    {
      "cell_type": "code",
      "metadata": {
        "id": "pOsW38i7ZCnF",
        "colab_type": "code",
        "outputId": "878e7062-9749-46cc-8621-a70556dd84e4",
        "colab": {
          "base_uri": "https://localhost:8080/",
          "height": 51
        }
      },
      "source": [
        "print(\"Before : {}\".format(clean_text[5]))\n",
        "for i in range(num_resp):\n",
        "  clean_text[i] = change_word(clean_text[i])\n",
        "\n",
        "print(\"After : {}\".format(clean_text[5]))"
      ],
      "execution_count": 0,
      "outputs": [
        {
          "output_type": "stream",
          "text": [
            "Before : antipsychot quetiapin sedat olanzapin risperidon aripiprazol lithium augment agent\n",
            "After : antipsychot seroquel sedat olanzapin risperidon aripiprazol lithium augment agent\n"
          ],
          "name": "stdout"
        }
      ]
    },
    {
      "cell_type": "markdown",
      "metadata": {
        "id": "fr8rugwJYCNk",
        "colab_type": "text"
      },
      "source": [
        "###3.Document - Term representation"
      ]
    },
    {
      "cell_type": "markdown",
      "metadata": {
        "id": "V_KmD0Yw7Hw0",
        "colab_type": "text"
      },
      "source": [
        "In order to classify tweets by machine learning models, we need to create a document-term representation. Numbers in the matrix represent how important a word is to a document in a collection or corpus."
      ]
    },
    {
      "cell_type": "markdown",
      "metadata": {
        "id": "S_R-24u4Yo9l",
        "colab_type": "text"
      },
      "source": [
        "##### 1.Term Frequency"
      ]
    },
    {
      "cell_type": "markdown",
      "metadata": {
        "id": "ALacM_0u9IAp",
        "colab_type": "text"
      },
      "source": [
        "Using by CountVectorizer function, we can tokenize and count the frequency of words in tweets. After it, fit_transform module creats a Document-Term matrix. "
      ]
    },
    {
      "cell_type": "code",
      "metadata": {
        "id": "wU2a4O4qYFj0",
        "colab_type": "code",
        "colab": {}
      },
      "source": [
        "from sklearn.feature_extraction.text import CountVectorizer"
      ],
      "execution_count": 0,
      "outputs": []
    },
    {
      "cell_type": "code",
      "metadata": {
        "id": "836QJ71WYdNC",
        "colab_type": "code",
        "outputId": "32779586-8088-483a-9fa2-9b8adb1d07a0",
        "colab": {
          "base_uri": "https://localhost:8080/",
          "height": 34
        }
      },
      "source": [
        "tfVectorizer=CountVectorizer()\n",
        "tfdtm= tfVectorizer.fit_transform(clean_text)\n",
        "tfVectorizer.get_feature_names()[0:5]"
      ],
      "execution_count": 0,
      "outputs": [
        {
          "output_type": "execute_result",
          "data": {
            "text/plain": [
              "['abbi', 'abid', 'abil', 'abilifi', 'abl']"
            ]
          },
          "metadata": {
            "tags": []
          },
          "execution_count": 16
        }
      ]
    },
    {
      "cell_type": "markdown",
      "metadata": {
        "id": "RVWUL-x5Yr5p",
        "colab_type": "text"
      },
      "source": [
        "#### 2.Term Frequency - Inverse Document Frequency (Feature Selection)"
      ]
    },
    {
      "cell_type": "markdown",
      "metadata": {
        "id": "JC2it_LD-qO1",
        "colab_type": "text"
      },
      "source": [
        "The frequency of words does not tell us how the words important, because some not important words such as 'I', 'the', 'a' would frequently appear than other terms. Term Frequency - Inverse Document Frequency value represents priority by the number of appearance in the document / the number of occurrence in the corpus. \n",
        "\n",
        "TfidfVectorizer module helps create tfidf matrix and set the minimum number of appearance. After creating the counting vector, convert it to data frame that we are going to use it for classification modeling."
      ]
    },
    {
      "cell_type": "code",
      "metadata": {
        "id": "jkx3Vc__YmGk",
        "colab_type": "code",
        "colab": {}
      },
      "source": [
        "from sklearn.feature_extraction.text import TfidfVectorizer"
      ],
      "execution_count": 0,
      "outputs": []
    },
    {
      "cell_type": "markdown",
      "metadata": {
        "id": "Z1VocJfws7Ea",
        "colab_type": "text"
      },
      "source": [
        "We then created 3 datasets where only the terms that appeared a minimum of 20, 30 and 50 times respectively would be included. With the minimum term appearance of 20, 226 features were retained for a minimum of 30 terms, 137 features were retained, and with a minimum of 50 term appearances, 67 features were retained. \n",
        "\n",
        "We evaluated the result of each frequency before, and 30 reveals the best performance. Thus, we decide to set minimum frequency of words ad 30 here. "
      ]
    },
    {
      "cell_type": "code",
      "metadata": {
        "id": "dUzBnLvDYzcb",
        "colab_type": "code",
        "outputId": "41b92354-4918-4a24-84cb-23ba06b47c89",
        "colab": {
          "base_uri": "https://localhost:8080/",
          "height": 34
        }
      },
      "source": [
        "tfidfVectorizer=TfidfVectorizer(min_df=30)\n",
        "tfidfdtm = tfidfVectorizer.fit_transform(clean_text)\n",
        "tfidfVectorizer.get_feature_names()[0:5]"
      ],
      "execution_count": 0,
      "outputs": [
        {
          "output_type": "execute_result",
          "data": {
            "text/plain": [
              "['actual', 'adderal', 'addict', 'also', 'ask']"
            ]
          },
          "metadata": {
            "tags": []
          },
          "execution_count": 18
        }
      ]
    },
    {
      "cell_type": "code",
      "metadata": {
        "id": "KsXRmtoHespq",
        "colab_type": "code",
        "outputId": "667c36d3-3826-43f5-f5e4-b9e9e5429b54",
        "colab": {
          "base_uri": "https://localhost:8080/",
          "height": 408
        }
      },
      "source": [
        "tfidf_df = pd.DataFrame(tfidfdtm.toarray(), columns=tfidfVectorizer.get_feature_names())\n",
        "tfidf_df[:10]"
      ],
      "execution_count": 0,
      "outputs": [
        {
          "output_type": "execute_result",
          "data": {
            "text/html": [
              "<div>\n",
              "<style scoped>\n",
              "    .dataframe tbody tr th:only-of-type {\n",
              "        vertical-align: middle;\n",
              "    }\n",
              "\n",
              "    .dataframe tbody tr th {\n",
              "        vertical-align: top;\n",
              "    }\n",
              "\n",
              "    .dataframe thead th {\n",
              "        text-align: right;\n",
              "    }\n",
              "</style>\n",
              "<table border=\"1\" class=\"dataframe\">\n",
              "  <thead>\n",
              "    <tr style=\"text-align: right;\">\n",
              "      <th></th>\n",
              "      <th>actual</th>\n",
              "      <th>adderal</th>\n",
              "      <th>addict</th>\n",
              "      <th>also</th>\n",
              "      <th>ask</th>\n",
              "      <th>ass</th>\n",
              "      <th>back</th>\n",
              "      <th>bad</th>\n",
              "      <th>bed</th>\n",
              "      <th>best</th>\n",
              "      <th>better</th>\n",
              "      <th>call</th>\n",
              "      <th>caus</th>\n",
              "      <th>coffe</th>\n",
              "      <th>come</th>\n",
              "      <th>could</th>\n",
              "      <th>day</th>\n",
              "      <th>doctor</th>\n",
              "      <th>done</th>\n",
              "      <th>dose</th>\n",
              "      <th>drink</th>\n",
              "      <th>drug</th>\n",
              "      <th>eat</th>\n",
              "      <th>effect</th>\n",
              "      <th>even</th>\n",
              "      <th>ever</th>\n",
              "      <th>everi</th>\n",
              "      <th>feel</th>\n",
              "      <th>final</th>\n",
              "      <th>find</th>\n",
              "      <th>first</th>\n",
              "      <th>focus</th>\n",
              "      <th>friend</th>\n",
              "      <th>fuck</th>\n",
              "      <th>gave</th>\n",
              "      <th>get</th>\n",
              "      <th>give</th>\n",
              "      <th>go</th>\n",
              "      <th>gonna</th>\n",
              "      <th>good</th>\n",
              "      <th>...</th>\n",
              "      <th>shit</th>\n",
              "      <th>sinc</th>\n",
              "      <th>sleep</th>\n",
              "      <th>someon</th>\n",
              "      <th>someth</th>\n",
              "      <th>start</th>\n",
              "      <th>stay</th>\n",
              "      <th>still</th>\n",
              "      <th>stop</th>\n",
              "      <th>studi</th>\n",
              "      <th>sure</th>\n",
              "      <th>surgeri</th>\n",
              "      <th>take</th>\n",
              "      <th>taken</th>\n",
              "      <th>talk</th>\n",
              "      <th>tell</th>\n",
              "      <th>thank</th>\n",
              "      <th>thing</th>\n",
              "      <th>think</th>\n",
              "      <th>thought</th>\n",
              "      <th>time</th>\n",
              "      <th>today</th>\n",
              "      <th>tomorrow</th>\n",
              "      <th>tonight</th>\n",
              "      <th>took</th>\n",
              "      <th>tri</th>\n",
              "      <th>two</th>\n",
              "      <th>use</th>\n",
              "      <th>wake</th>\n",
              "      <th>wanna</th>\n",
              "      <th>want</th>\n",
              "      <th>way</th>\n",
              "      <th>week</th>\n",
              "      <th>well</th>\n",
              "      <th>without</th>\n",
              "      <th>work</th>\n",
              "      <th>would</th>\n",
              "      <th>xanax</th>\n",
              "      <th>yeah</th>\n",
              "      <th>year</th>\n",
              "    </tr>\n",
              "  </thead>\n",
              "  <tbody>\n",
              "    <tr>\n",
              "      <th>0</th>\n",
              "      <td>0.0</td>\n",
              "      <td>0.00000</td>\n",
              "      <td>0.0</td>\n",
              "      <td>0.0</td>\n",
              "      <td>0.00000</td>\n",
              "      <td>0.0</td>\n",
              "      <td>0.0</td>\n",
              "      <td>0.0</td>\n",
              "      <td>0.0</td>\n",
              "      <td>0.0</td>\n",
              "      <td>0.0</td>\n",
              "      <td>0.000000</td>\n",
              "      <td>0.0</td>\n",
              "      <td>0.0</td>\n",
              "      <td>0.00000</td>\n",
              "      <td>0.0</td>\n",
              "      <td>0.0</td>\n",
              "      <td>0.0</td>\n",
              "      <td>0.0</td>\n",
              "      <td>0.0</td>\n",
              "      <td>0.0</td>\n",
              "      <td>0.0</td>\n",
              "      <td>0.0</td>\n",
              "      <td>0.0</td>\n",
              "      <td>0.0</td>\n",
              "      <td>0.0</td>\n",
              "      <td>0.0</td>\n",
              "      <td>0.0</td>\n",
              "      <td>0.0</td>\n",
              "      <td>0.0</td>\n",
              "      <td>0.0</td>\n",
              "      <td>0.0</td>\n",
              "      <td>0.0</td>\n",
              "      <td>0.0</td>\n",
              "      <td>0.000000</td>\n",
              "      <td>0.000000</td>\n",
              "      <td>0.0</td>\n",
              "      <td>0.0</td>\n",
              "      <td>0.0</td>\n",
              "      <td>0.0</td>\n",
              "      <td>...</td>\n",
              "      <td>0.0</td>\n",
              "      <td>0.0</td>\n",
              "      <td>0.0</td>\n",
              "      <td>0.0</td>\n",
              "      <td>0.0</td>\n",
              "      <td>0.0</td>\n",
              "      <td>0.0</td>\n",
              "      <td>0.0</td>\n",
              "      <td>0.0</td>\n",
              "      <td>0.0</td>\n",
              "      <td>0.0</td>\n",
              "      <td>0.0</td>\n",
              "      <td>0.000000</td>\n",
              "      <td>0.0</td>\n",
              "      <td>0.0</td>\n",
              "      <td>0.00000</td>\n",
              "      <td>0.0</td>\n",
              "      <td>0.0</td>\n",
              "      <td>0.0</td>\n",
              "      <td>0.000000</td>\n",
              "      <td>0.0</td>\n",
              "      <td>0.0</td>\n",
              "      <td>0.0</td>\n",
              "      <td>0.0</td>\n",
              "      <td>0.0</td>\n",
              "      <td>0.0</td>\n",
              "      <td>0.000000</td>\n",
              "      <td>0.0</td>\n",
              "      <td>0.0</td>\n",
              "      <td>0.0</td>\n",
              "      <td>0.0</td>\n",
              "      <td>0.0</td>\n",
              "      <td>0.0</td>\n",
              "      <td>0.0</td>\n",
              "      <td>0.0</td>\n",
              "      <td>0.0</td>\n",
              "      <td>0.000000</td>\n",
              "      <td>0.0</td>\n",
              "      <td>0.0</td>\n",
              "      <td>0.000000</td>\n",
              "    </tr>\n",
              "    <tr>\n",
              "      <th>1</th>\n",
              "      <td>0.0</td>\n",
              "      <td>0.00000</td>\n",
              "      <td>0.0</td>\n",
              "      <td>0.0</td>\n",
              "      <td>0.00000</td>\n",
              "      <td>0.0</td>\n",
              "      <td>0.0</td>\n",
              "      <td>0.0</td>\n",
              "      <td>0.0</td>\n",
              "      <td>0.0</td>\n",
              "      <td>0.0</td>\n",
              "      <td>0.000000</td>\n",
              "      <td>0.0</td>\n",
              "      <td>0.0</td>\n",
              "      <td>0.00000</td>\n",
              "      <td>0.0</td>\n",
              "      <td>0.0</td>\n",
              "      <td>0.0</td>\n",
              "      <td>0.0</td>\n",
              "      <td>0.0</td>\n",
              "      <td>0.0</td>\n",
              "      <td>0.0</td>\n",
              "      <td>0.0</td>\n",
              "      <td>0.0</td>\n",
              "      <td>0.0</td>\n",
              "      <td>0.0</td>\n",
              "      <td>0.0</td>\n",
              "      <td>0.0</td>\n",
              "      <td>0.0</td>\n",
              "      <td>0.0</td>\n",
              "      <td>0.0</td>\n",
              "      <td>0.0</td>\n",
              "      <td>0.0</td>\n",
              "      <td>0.0</td>\n",
              "      <td>0.000000</td>\n",
              "      <td>0.000000</td>\n",
              "      <td>0.0</td>\n",
              "      <td>0.0</td>\n",
              "      <td>0.0</td>\n",
              "      <td>0.0</td>\n",
              "      <td>...</td>\n",
              "      <td>0.0</td>\n",
              "      <td>0.0</td>\n",
              "      <td>0.0</td>\n",
              "      <td>0.0</td>\n",
              "      <td>0.0</td>\n",
              "      <td>0.0</td>\n",
              "      <td>0.0</td>\n",
              "      <td>0.0</td>\n",
              "      <td>0.0</td>\n",
              "      <td>0.0</td>\n",
              "      <td>0.0</td>\n",
              "      <td>0.0</td>\n",
              "      <td>0.000000</td>\n",
              "      <td>0.0</td>\n",
              "      <td>0.0</td>\n",
              "      <td>0.00000</td>\n",
              "      <td>0.0</td>\n",
              "      <td>0.0</td>\n",
              "      <td>0.0</td>\n",
              "      <td>0.000000</td>\n",
              "      <td>0.0</td>\n",
              "      <td>0.0</td>\n",
              "      <td>0.0</td>\n",
              "      <td>0.0</td>\n",
              "      <td>0.0</td>\n",
              "      <td>0.0</td>\n",
              "      <td>0.000000</td>\n",
              "      <td>0.0</td>\n",
              "      <td>0.0</td>\n",
              "      <td>0.0</td>\n",
              "      <td>0.0</td>\n",
              "      <td>0.0</td>\n",
              "      <td>0.0</td>\n",
              "      <td>0.0</td>\n",
              "      <td>0.0</td>\n",
              "      <td>0.0</td>\n",
              "      <td>0.000000</td>\n",
              "      <td>0.0</td>\n",
              "      <td>0.0</td>\n",
              "      <td>0.000000</td>\n",
              "    </tr>\n",
              "    <tr>\n",
              "      <th>2</th>\n",
              "      <td>0.0</td>\n",
              "      <td>0.00000</td>\n",
              "      <td>0.0</td>\n",
              "      <td>0.0</td>\n",
              "      <td>0.00000</td>\n",
              "      <td>0.0</td>\n",
              "      <td>0.0</td>\n",
              "      <td>0.0</td>\n",
              "      <td>0.0</td>\n",
              "      <td>0.0</td>\n",
              "      <td>0.0</td>\n",
              "      <td>0.532974</td>\n",
              "      <td>0.0</td>\n",
              "      <td>0.0</td>\n",
              "      <td>0.00000</td>\n",
              "      <td>0.0</td>\n",
              "      <td>0.0</td>\n",
              "      <td>0.0</td>\n",
              "      <td>0.0</td>\n",
              "      <td>0.0</td>\n",
              "      <td>0.0</td>\n",
              "      <td>0.0</td>\n",
              "      <td>0.0</td>\n",
              "      <td>0.0</td>\n",
              "      <td>0.0</td>\n",
              "      <td>0.0</td>\n",
              "      <td>0.0</td>\n",
              "      <td>0.0</td>\n",
              "      <td>0.0</td>\n",
              "      <td>0.0</td>\n",
              "      <td>0.0</td>\n",
              "      <td>0.0</td>\n",
              "      <td>0.0</td>\n",
              "      <td>0.0</td>\n",
              "      <td>0.000000</td>\n",
              "      <td>0.696834</td>\n",
              "      <td>0.0</td>\n",
              "      <td>0.0</td>\n",
              "      <td>0.0</td>\n",
              "      <td>0.0</td>\n",
              "      <td>...</td>\n",
              "      <td>0.0</td>\n",
              "      <td>0.0</td>\n",
              "      <td>0.0</td>\n",
              "      <td>0.0</td>\n",
              "      <td>0.0</td>\n",
              "      <td>0.0</td>\n",
              "      <td>0.0</td>\n",
              "      <td>0.0</td>\n",
              "      <td>0.0</td>\n",
              "      <td>0.0</td>\n",
              "      <td>0.0</td>\n",
              "      <td>0.0</td>\n",
              "      <td>0.000000</td>\n",
              "      <td>0.0</td>\n",
              "      <td>0.0</td>\n",
              "      <td>0.00000</td>\n",
              "      <td>0.0</td>\n",
              "      <td>0.0</td>\n",
              "      <td>0.0</td>\n",
              "      <td>0.000000</td>\n",
              "      <td>0.0</td>\n",
              "      <td>0.0</td>\n",
              "      <td>0.0</td>\n",
              "      <td>0.0</td>\n",
              "      <td>0.0</td>\n",
              "      <td>0.0</td>\n",
              "      <td>0.000000</td>\n",
              "      <td>0.0</td>\n",
              "      <td>0.0</td>\n",
              "      <td>0.0</td>\n",
              "      <td>0.0</td>\n",
              "      <td>0.0</td>\n",
              "      <td>0.0</td>\n",
              "      <td>0.0</td>\n",
              "      <td>0.0</td>\n",
              "      <td>0.0</td>\n",
              "      <td>0.000000</td>\n",
              "      <td>0.0</td>\n",
              "      <td>0.0</td>\n",
              "      <td>0.000000</td>\n",
              "    </tr>\n",
              "    <tr>\n",
              "      <th>3</th>\n",
              "      <td>0.0</td>\n",
              "      <td>0.00000</td>\n",
              "      <td>0.0</td>\n",
              "      <td>0.0</td>\n",
              "      <td>0.69535</td>\n",
              "      <td>0.0</td>\n",
              "      <td>0.0</td>\n",
              "      <td>0.0</td>\n",
              "      <td>0.0</td>\n",
              "      <td>0.0</td>\n",
              "      <td>0.0</td>\n",
              "      <td>0.000000</td>\n",
              "      <td>0.0</td>\n",
              "      <td>0.0</td>\n",
              "      <td>0.00000</td>\n",
              "      <td>0.0</td>\n",
              "      <td>0.0</td>\n",
              "      <td>0.0</td>\n",
              "      <td>0.0</td>\n",
              "      <td>0.0</td>\n",
              "      <td>0.0</td>\n",
              "      <td>0.0</td>\n",
              "      <td>0.0</td>\n",
              "      <td>0.0</td>\n",
              "      <td>0.0</td>\n",
              "      <td>0.0</td>\n",
              "      <td>0.0</td>\n",
              "      <td>0.0</td>\n",
              "      <td>0.0</td>\n",
              "      <td>0.0</td>\n",
              "      <td>0.0</td>\n",
              "      <td>0.0</td>\n",
              "      <td>0.0</td>\n",
              "      <td>0.0</td>\n",
              "      <td>0.000000</td>\n",
              "      <td>0.000000</td>\n",
              "      <td>0.0</td>\n",
              "      <td>0.0</td>\n",
              "      <td>0.0</td>\n",
              "      <td>0.0</td>\n",
              "      <td>...</td>\n",
              "      <td>0.0</td>\n",
              "      <td>0.0</td>\n",
              "      <td>0.0</td>\n",
              "      <td>0.0</td>\n",
              "      <td>0.0</td>\n",
              "      <td>0.0</td>\n",
              "      <td>0.0</td>\n",
              "      <td>0.0</td>\n",
              "      <td>0.0</td>\n",
              "      <td>0.0</td>\n",
              "      <td>0.0</td>\n",
              "      <td>0.0</td>\n",
              "      <td>0.000000</td>\n",
              "      <td>0.0</td>\n",
              "      <td>0.0</td>\n",
              "      <td>0.00000</td>\n",
              "      <td>0.0</td>\n",
              "      <td>0.0</td>\n",
              "      <td>0.0</td>\n",
              "      <td>0.000000</td>\n",
              "      <td>0.0</td>\n",
              "      <td>0.0</td>\n",
              "      <td>0.0</td>\n",
              "      <td>0.0</td>\n",
              "      <td>0.0</td>\n",
              "      <td>0.0</td>\n",
              "      <td>0.000000</td>\n",
              "      <td>0.0</td>\n",
              "      <td>0.0</td>\n",
              "      <td>0.0</td>\n",
              "      <td>0.0</td>\n",
              "      <td>0.0</td>\n",
              "      <td>0.0</td>\n",
              "      <td>0.0</td>\n",
              "      <td>0.0</td>\n",
              "      <td>0.0</td>\n",
              "      <td>0.000000</td>\n",
              "      <td>0.0</td>\n",
              "      <td>0.0</td>\n",
              "      <td>0.000000</td>\n",
              "    </tr>\n",
              "    <tr>\n",
              "      <th>4</th>\n",
              "      <td>0.0</td>\n",
              "      <td>0.16467</td>\n",
              "      <td>0.0</td>\n",
              "      <td>0.0</td>\n",
              "      <td>0.00000</td>\n",
              "      <td>0.0</td>\n",
              "      <td>0.0</td>\n",
              "      <td>0.0</td>\n",
              "      <td>0.0</td>\n",
              "      <td>0.0</td>\n",
              "      <td>0.0</td>\n",
              "      <td>0.000000</td>\n",
              "      <td>0.0</td>\n",
              "      <td>0.0</td>\n",
              "      <td>0.00000</td>\n",
              "      <td>0.0</td>\n",
              "      <td>0.0</td>\n",
              "      <td>0.0</td>\n",
              "      <td>0.0</td>\n",
              "      <td>0.0</td>\n",
              "      <td>0.0</td>\n",
              "      <td>0.0</td>\n",
              "      <td>0.0</td>\n",
              "      <td>0.0</td>\n",
              "      <td>0.0</td>\n",
              "      <td>0.0</td>\n",
              "      <td>0.0</td>\n",
              "      <td>0.0</td>\n",
              "      <td>0.0</td>\n",
              "      <td>0.0</td>\n",
              "      <td>0.0</td>\n",
              "      <td>0.0</td>\n",
              "      <td>0.0</td>\n",
              "      <td>0.0</td>\n",
              "      <td>0.000000</td>\n",
              "      <td>0.000000</td>\n",
              "      <td>0.0</td>\n",
              "      <td>0.0</td>\n",
              "      <td>0.0</td>\n",
              "      <td>0.0</td>\n",
              "      <td>...</td>\n",
              "      <td>0.0</td>\n",
              "      <td>0.0</td>\n",
              "      <td>0.0</td>\n",
              "      <td>0.0</td>\n",
              "      <td>0.0</td>\n",
              "      <td>0.0</td>\n",
              "      <td>0.0</td>\n",
              "      <td>0.0</td>\n",
              "      <td>0.0</td>\n",
              "      <td>0.0</td>\n",
              "      <td>0.0</td>\n",
              "      <td>0.0</td>\n",
              "      <td>0.269218</td>\n",
              "      <td>0.0</td>\n",
              "      <td>0.0</td>\n",
              "      <td>0.00000</td>\n",
              "      <td>0.0</td>\n",
              "      <td>0.0</td>\n",
              "      <td>0.0</td>\n",
              "      <td>0.000000</td>\n",
              "      <td>0.0</td>\n",
              "      <td>0.0</td>\n",
              "      <td>0.0</td>\n",
              "      <td>0.0</td>\n",
              "      <td>0.0</td>\n",
              "      <td>0.0</td>\n",
              "      <td>0.000000</td>\n",
              "      <td>0.0</td>\n",
              "      <td>0.0</td>\n",
              "      <td>0.0</td>\n",
              "      <td>0.0</td>\n",
              "      <td>0.0</td>\n",
              "      <td>0.0</td>\n",
              "      <td>0.0</td>\n",
              "      <td>0.0</td>\n",
              "      <td>0.0</td>\n",
              "      <td>0.000000</td>\n",
              "      <td>0.0</td>\n",
              "      <td>0.0</td>\n",
              "      <td>0.448937</td>\n",
              "    </tr>\n",
              "    <tr>\n",
              "      <th>5</th>\n",
              "      <td>0.0</td>\n",
              "      <td>0.00000</td>\n",
              "      <td>0.0</td>\n",
              "      <td>0.0</td>\n",
              "      <td>0.00000</td>\n",
              "      <td>0.0</td>\n",
              "      <td>0.0</td>\n",
              "      <td>0.0</td>\n",
              "      <td>0.0</td>\n",
              "      <td>0.0</td>\n",
              "      <td>0.0</td>\n",
              "      <td>0.000000</td>\n",
              "      <td>0.0</td>\n",
              "      <td>0.0</td>\n",
              "      <td>0.00000</td>\n",
              "      <td>0.0</td>\n",
              "      <td>0.0</td>\n",
              "      <td>0.0</td>\n",
              "      <td>0.0</td>\n",
              "      <td>0.0</td>\n",
              "      <td>0.0</td>\n",
              "      <td>0.0</td>\n",
              "      <td>0.0</td>\n",
              "      <td>0.0</td>\n",
              "      <td>0.0</td>\n",
              "      <td>0.0</td>\n",
              "      <td>0.0</td>\n",
              "      <td>0.0</td>\n",
              "      <td>0.0</td>\n",
              "      <td>0.0</td>\n",
              "      <td>0.0</td>\n",
              "      <td>0.0</td>\n",
              "      <td>0.0</td>\n",
              "      <td>0.0</td>\n",
              "      <td>0.000000</td>\n",
              "      <td>0.000000</td>\n",
              "      <td>0.0</td>\n",
              "      <td>0.0</td>\n",
              "      <td>0.0</td>\n",
              "      <td>0.0</td>\n",
              "      <td>...</td>\n",
              "      <td>0.0</td>\n",
              "      <td>0.0</td>\n",
              "      <td>0.0</td>\n",
              "      <td>0.0</td>\n",
              "      <td>0.0</td>\n",
              "      <td>0.0</td>\n",
              "      <td>0.0</td>\n",
              "      <td>0.0</td>\n",
              "      <td>0.0</td>\n",
              "      <td>0.0</td>\n",
              "      <td>0.0</td>\n",
              "      <td>0.0</td>\n",
              "      <td>0.000000</td>\n",
              "      <td>0.0</td>\n",
              "      <td>0.0</td>\n",
              "      <td>0.00000</td>\n",
              "      <td>0.0</td>\n",
              "      <td>0.0</td>\n",
              "      <td>0.0</td>\n",
              "      <td>0.000000</td>\n",
              "      <td>0.0</td>\n",
              "      <td>0.0</td>\n",
              "      <td>0.0</td>\n",
              "      <td>0.0</td>\n",
              "      <td>0.0</td>\n",
              "      <td>0.0</td>\n",
              "      <td>0.000000</td>\n",
              "      <td>0.0</td>\n",
              "      <td>0.0</td>\n",
              "      <td>0.0</td>\n",
              "      <td>0.0</td>\n",
              "      <td>0.0</td>\n",
              "      <td>0.0</td>\n",
              "      <td>0.0</td>\n",
              "      <td>0.0</td>\n",
              "      <td>0.0</td>\n",
              "      <td>0.000000</td>\n",
              "      <td>0.0</td>\n",
              "      <td>0.0</td>\n",
              "      <td>0.000000</td>\n",
              "    </tr>\n",
              "    <tr>\n",
              "      <th>6</th>\n",
              "      <td>0.0</td>\n",
              "      <td>0.00000</td>\n",
              "      <td>0.0</td>\n",
              "      <td>0.0</td>\n",
              "      <td>0.00000</td>\n",
              "      <td>0.0</td>\n",
              "      <td>0.0</td>\n",
              "      <td>0.0</td>\n",
              "      <td>0.0</td>\n",
              "      <td>0.0</td>\n",
              "      <td>0.0</td>\n",
              "      <td>0.000000</td>\n",
              "      <td>0.0</td>\n",
              "      <td>0.0</td>\n",
              "      <td>0.00000</td>\n",
              "      <td>0.0</td>\n",
              "      <td>0.0</td>\n",
              "      <td>0.0</td>\n",
              "      <td>0.0</td>\n",
              "      <td>0.0</td>\n",
              "      <td>0.0</td>\n",
              "      <td>0.0</td>\n",
              "      <td>0.0</td>\n",
              "      <td>0.0</td>\n",
              "      <td>0.0</td>\n",
              "      <td>0.0</td>\n",
              "      <td>0.0</td>\n",
              "      <td>0.0</td>\n",
              "      <td>0.0</td>\n",
              "      <td>0.0</td>\n",
              "      <td>0.0</td>\n",
              "      <td>0.0</td>\n",
              "      <td>0.0</td>\n",
              "      <td>0.0</td>\n",
              "      <td>0.000000</td>\n",
              "      <td>0.000000</td>\n",
              "      <td>0.0</td>\n",
              "      <td>0.0</td>\n",
              "      <td>0.0</td>\n",
              "      <td>0.0</td>\n",
              "      <td>...</td>\n",
              "      <td>0.0</td>\n",
              "      <td>0.0</td>\n",
              "      <td>0.0</td>\n",
              "      <td>0.0</td>\n",
              "      <td>0.0</td>\n",
              "      <td>0.0</td>\n",
              "      <td>0.0</td>\n",
              "      <td>0.0</td>\n",
              "      <td>0.0</td>\n",
              "      <td>0.0</td>\n",
              "      <td>0.0</td>\n",
              "      <td>0.0</td>\n",
              "      <td>0.494662</td>\n",
              "      <td>0.0</td>\n",
              "      <td>0.0</td>\n",
              "      <td>0.00000</td>\n",
              "      <td>0.0</td>\n",
              "      <td>0.0</td>\n",
              "      <td>0.0</td>\n",
              "      <td>0.000000</td>\n",
              "      <td>0.0</td>\n",
              "      <td>0.0</td>\n",
              "      <td>0.0</td>\n",
              "      <td>0.0</td>\n",
              "      <td>0.0</td>\n",
              "      <td>0.0</td>\n",
              "      <td>0.000000</td>\n",
              "      <td>0.0</td>\n",
              "      <td>0.0</td>\n",
              "      <td>0.0</td>\n",
              "      <td>0.0</td>\n",
              "      <td>0.0</td>\n",
              "      <td>0.0</td>\n",
              "      <td>0.0</td>\n",
              "      <td>0.0</td>\n",
              "      <td>0.0</td>\n",
              "      <td>0.000000</td>\n",
              "      <td>0.0</td>\n",
              "      <td>0.0</td>\n",
              "      <td>0.000000</td>\n",
              "    </tr>\n",
              "    <tr>\n",
              "      <th>7</th>\n",
              "      <td>0.0</td>\n",
              "      <td>0.00000</td>\n",
              "      <td>0.0</td>\n",
              "      <td>0.0</td>\n",
              "      <td>0.00000</td>\n",
              "      <td>0.0</td>\n",
              "      <td>0.0</td>\n",
              "      <td>0.0</td>\n",
              "      <td>0.0</td>\n",
              "      <td>0.0</td>\n",
              "      <td>0.0</td>\n",
              "      <td>0.000000</td>\n",
              "      <td>0.0</td>\n",
              "      <td>0.0</td>\n",
              "      <td>0.00000</td>\n",
              "      <td>0.0</td>\n",
              "      <td>0.0</td>\n",
              "      <td>0.0</td>\n",
              "      <td>0.0</td>\n",
              "      <td>0.0</td>\n",
              "      <td>0.0</td>\n",
              "      <td>0.0</td>\n",
              "      <td>0.0</td>\n",
              "      <td>0.0</td>\n",
              "      <td>0.0</td>\n",
              "      <td>0.0</td>\n",
              "      <td>0.0</td>\n",
              "      <td>0.0</td>\n",
              "      <td>0.0</td>\n",
              "      <td>0.0</td>\n",
              "      <td>0.0</td>\n",
              "      <td>0.0</td>\n",
              "      <td>0.0</td>\n",
              "      <td>0.0</td>\n",
              "      <td>0.000000</td>\n",
              "      <td>0.000000</td>\n",
              "      <td>0.0</td>\n",
              "      <td>0.0</td>\n",
              "      <td>0.0</td>\n",
              "      <td>0.0</td>\n",
              "      <td>...</td>\n",
              "      <td>0.0</td>\n",
              "      <td>0.0</td>\n",
              "      <td>0.0</td>\n",
              "      <td>0.0</td>\n",
              "      <td>0.0</td>\n",
              "      <td>0.0</td>\n",
              "      <td>0.0</td>\n",
              "      <td>0.0</td>\n",
              "      <td>0.0</td>\n",
              "      <td>0.0</td>\n",
              "      <td>0.0</td>\n",
              "      <td>0.0</td>\n",
              "      <td>0.000000</td>\n",
              "      <td>0.0</td>\n",
              "      <td>0.0</td>\n",
              "      <td>0.00000</td>\n",
              "      <td>0.0</td>\n",
              "      <td>0.0</td>\n",
              "      <td>0.0</td>\n",
              "      <td>0.445602</td>\n",
              "      <td>0.0</td>\n",
              "      <td>0.0</td>\n",
              "      <td>0.0</td>\n",
              "      <td>0.0</td>\n",
              "      <td>0.0</td>\n",
              "      <td>0.0</td>\n",
              "      <td>0.000000</td>\n",
              "      <td>0.0</td>\n",
              "      <td>0.0</td>\n",
              "      <td>0.0</td>\n",
              "      <td>0.0</td>\n",
              "      <td>0.0</td>\n",
              "      <td>0.0</td>\n",
              "      <td>0.0</td>\n",
              "      <td>0.0</td>\n",
              "      <td>0.0</td>\n",
              "      <td>0.747859</td>\n",
              "      <td>0.0</td>\n",
              "      <td>0.0</td>\n",
              "      <td>0.000000</td>\n",
              "    </tr>\n",
              "    <tr>\n",
              "      <th>8</th>\n",
              "      <td>0.0</td>\n",
              "      <td>0.00000</td>\n",
              "      <td>0.0</td>\n",
              "      <td>0.0</td>\n",
              "      <td>0.00000</td>\n",
              "      <td>0.0</td>\n",
              "      <td>0.0</td>\n",
              "      <td>0.0</td>\n",
              "      <td>0.0</td>\n",
              "      <td>0.0</td>\n",
              "      <td>0.0</td>\n",
              "      <td>0.000000</td>\n",
              "      <td>0.0</td>\n",
              "      <td>0.0</td>\n",
              "      <td>0.45356</td>\n",
              "      <td>0.0</td>\n",
              "      <td>0.0</td>\n",
              "      <td>0.0</td>\n",
              "      <td>0.0</td>\n",
              "      <td>0.0</td>\n",
              "      <td>0.0</td>\n",
              "      <td>0.0</td>\n",
              "      <td>0.0</td>\n",
              "      <td>0.0</td>\n",
              "      <td>0.0</td>\n",
              "      <td>0.0</td>\n",
              "      <td>0.0</td>\n",
              "      <td>0.0</td>\n",
              "      <td>0.0</td>\n",
              "      <td>0.0</td>\n",
              "      <td>0.0</td>\n",
              "      <td>0.0</td>\n",
              "      <td>0.0</td>\n",
              "      <td>0.0</td>\n",
              "      <td>0.444197</td>\n",
              "      <td>0.000000</td>\n",
              "      <td>0.0</td>\n",
              "      <td>0.0</td>\n",
              "      <td>0.0</td>\n",
              "      <td>0.0</td>\n",
              "      <td>...</td>\n",
              "      <td>0.0</td>\n",
              "      <td>0.0</td>\n",
              "      <td>0.0</td>\n",
              "      <td>0.0</td>\n",
              "      <td>0.0</td>\n",
              "      <td>0.0</td>\n",
              "      <td>0.0</td>\n",
              "      <td>0.0</td>\n",
              "      <td>0.0</td>\n",
              "      <td>0.0</td>\n",
              "      <td>0.0</td>\n",
              "      <td>0.0</td>\n",
              "      <td>0.000000</td>\n",
              "      <td>0.0</td>\n",
              "      <td>0.0</td>\n",
              "      <td>0.46185</td>\n",
              "      <td>0.0</td>\n",
              "      <td>0.0</td>\n",
              "      <td>0.0</td>\n",
              "      <td>0.000000</td>\n",
              "      <td>0.0</td>\n",
              "      <td>0.0</td>\n",
              "      <td>0.0</td>\n",
              "      <td>0.0</td>\n",
              "      <td>0.0</td>\n",
              "      <td>0.0</td>\n",
              "      <td>0.459702</td>\n",
              "      <td>0.0</td>\n",
              "      <td>0.0</td>\n",
              "      <td>0.0</td>\n",
              "      <td>0.0</td>\n",
              "      <td>0.0</td>\n",
              "      <td>0.0</td>\n",
              "      <td>0.0</td>\n",
              "      <td>0.0</td>\n",
              "      <td>0.0</td>\n",
              "      <td>0.000000</td>\n",
              "      <td>0.0</td>\n",
              "      <td>0.0</td>\n",
              "      <td>0.000000</td>\n",
              "    </tr>\n",
              "    <tr>\n",
              "      <th>9</th>\n",
              "      <td>0.0</td>\n",
              "      <td>0.00000</td>\n",
              "      <td>0.0</td>\n",
              "      <td>0.0</td>\n",
              "      <td>0.00000</td>\n",
              "      <td>0.0</td>\n",
              "      <td>0.0</td>\n",
              "      <td>0.0</td>\n",
              "      <td>0.0</td>\n",
              "      <td>0.0</td>\n",
              "      <td>0.0</td>\n",
              "      <td>0.000000</td>\n",
              "      <td>0.0</td>\n",
              "      <td>0.0</td>\n",
              "      <td>0.00000</td>\n",
              "      <td>0.0</td>\n",
              "      <td>0.0</td>\n",
              "      <td>0.0</td>\n",
              "      <td>0.0</td>\n",
              "      <td>0.0</td>\n",
              "      <td>0.0</td>\n",
              "      <td>0.0</td>\n",
              "      <td>0.0</td>\n",
              "      <td>0.0</td>\n",
              "      <td>0.0</td>\n",
              "      <td>0.0</td>\n",
              "      <td>0.0</td>\n",
              "      <td>0.0</td>\n",
              "      <td>0.0</td>\n",
              "      <td>0.0</td>\n",
              "      <td>0.0</td>\n",
              "      <td>0.0</td>\n",
              "      <td>0.0</td>\n",
              "      <td>0.0</td>\n",
              "      <td>0.000000</td>\n",
              "      <td>0.000000</td>\n",
              "      <td>0.0</td>\n",
              "      <td>0.0</td>\n",
              "      <td>0.0</td>\n",
              "      <td>0.0</td>\n",
              "      <td>...</td>\n",
              "      <td>0.0</td>\n",
              "      <td>0.0</td>\n",
              "      <td>0.0</td>\n",
              "      <td>0.0</td>\n",
              "      <td>0.0</td>\n",
              "      <td>0.0</td>\n",
              "      <td>0.0</td>\n",
              "      <td>0.0</td>\n",
              "      <td>0.0</td>\n",
              "      <td>0.0</td>\n",
              "      <td>0.0</td>\n",
              "      <td>0.0</td>\n",
              "      <td>0.378680</td>\n",
              "      <td>0.0</td>\n",
              "      <td>0.0</td>\n",
              "      <td>0.00000</td>\n",
              "      <td>0.0</td>\n",
              "      <td>0.0</td>\n",
              "      <td>0.0</td>\n",
              "      <td>0.000000</td>\n",
              "      <td>0.0</td>\n",
              "      <td>0.0</td>\n",
              "      <td>0.0</td>\n",
              "      <td>0.0</td>\n",
              "      <td>0.0</td>\n",
              "      <td>0.0</td>\n",
              "      <td>0.000000</td>\n",
              "      <td>0.0</td>\n",
              "      <td>0.0</td>\n",
              "      <td>0.0</td>\n",
              "      <td>0.0</td>\n",
              "      <td>0.0</td>\n",
              "      <td>0.0</td>\n",
              "      <td>0.0</td>\n",
              "      <td>0.0</td>\n",
              "      <td>0.0</td>\n",
              "      <td>0.000000</td>\n",
              "      <td>0.0</td>\n",
              "      <td>0.0</td>\n",
              "      <td>0.000000</td>\n",
              "    </tr>\n",
              "  </tbody>\n",
              "</table>\n",
              "<p>10 rows × 134 columns</p>\n",
              "</div>"
            ],
            "text/plain": [
              "   actual  adderal  addict  also  ...     would  xanax  yeah      year\n",
              "0     0.0  0.00000     0.0   0.0  ...  0.000000    0.0   0.0  0.000000\n",
              "1     0.0  0.00000     0.0   0.0  ...  0.000000    0.0   0.0  0.000000\n",
              "2     0.0  0.00000     0.0   0.0  ...  0.000000    0.0   0.0  0.000000\n",
              "3     0.0  0.00000     0.0   0.0  ...  0.000000    0.0   0.0  0.000000\n",
              "4     0.0  0.16467     0.0   0.0  ...  0.000000    0.0   0.0  0.448937\n",
              "5     0.0  0.00000     0.0   0.0  ...  0.000000    0.0   0.0  0.000000\n",
              "6     0.0  0.00000     0.0   0.0  ...  0.000000    0.0   0.0  0.000000\n",
              "7     0.0  0.00000     0.0   0.0  ...  0.747859    0.0   0.0  0.000000\n",
              "8     0.0  0.00000     0.0   0.0  ...  0.000000    0.0   0.0  0.000000\n",
              "9     0.0  0.00000     0.0   0.0  ...  0.000000    0.0   0.0  0.000000\n",
              "\n",
              "[10 rows x 134 columns]"
            ]
          },
          "metadata": {
            "tags": []
          },
          "execution_count": 19
        }
      ]
    },
    {
      "cell_type": "code",
      "metadata": {
        "id": "VnF0JAT4AyEw",
        "colab_type": "code",
        "outputId": "112b21db-b498-4d81-bf73-b7e9b9acb793",
        "colab": {
          "base_uri": "https://localhost:8080/",
          "height": 1000
        }
      },
      "source": [
        "drugTweets_df"
      ],
      "execution_count": 0,
      "outputs": [
        {
          "output_type": "execute_result",
          "data": {
            "text/html": [
              "<div>\n",
              "<style scoped>\n",
              "    .dataframe tbody tr th:only-of-type {\n",
              "        vertical-align: middle;\n",
              "    }\n",
              "\n",
              "    .dataframe tbody tr th {\n",
              "        vertical-align: top;\n",
              "    }\n",
              "\n",
              "    .dataframe thead th {\n",
              "        text-align: right;\n",
              "    }\n",
              "</style>\n",
              "<table border=\"1\" class=\"dataframe\">\n",
              "  <thead>\n",
              "    <tr style=\"text-align: right;\">\n",
              "      <th></th>\n",
              "      <th>tweet_id</th>\n",
              "      <th>text_text</th>\n",
              "      <th>twitter_user_id</th>\n",
              "      <th>abuse</th>\n",
              "    </tr>\n",
              "  </thead>\n",
              "  <tbody>\n",
              "    <tr>\n",
              "      <th>0</th>\n",
              "      <td>333644914913079296</td>\n",
              "      <td>i know for a FACT that alcohol does not deplet...</td>\n",
              "      <td>230052171</td>\n",
              "      <td>0</td>\n",
              "    </tr>\n",
              "    <tr>\n",
              "      <th>1</th>\n",
              "      <td>344825926342832128</td>\n",
              "      <td>mg Seroquel with my ‘normal’ mg Lovan and mcg ...</td>\n",
              "      <td>179074771</td>\n",
              "      <td>0</td>\n",
              "    </tr>\n",
              "    <tr>\n",
              "      <th>2</th>\n",
              "      <td>333854289023864832</td>\n",
              "      <td>SEVEN missed calls? get you're seroquel mg low...</td>\n",
              "      <td>333099736</td>\n",
              "      <td>0</td>\n",
              "    </tr>\n",
              "    <tr>\n",
              "      <th>3</th>\n",
              "      <td>344606561873833985</td>\n",
              "      <td>there's a fella on my Facebook who is asking t...</td>\n",
              "      <td>464202509</td>\n",
              "      <td>1</td>\n",
              "    </tr>\n",
              "    <tr>\n",
              "      <th>4</th>\n",
              "      <td>341947615853813761</td>\n",
              "      <td>you take vyvanse? I was on that stuff for like...</td>\n",
              "      <td>90304006</td>\n",
              "      <td>0</td>\n",
              "    </tr>\n",
              "    <tr>\n",
              "      <th>5</th>\n",
              "      <td>328655421256654849</td>\n",
              "      <td>antipsychotics: quetiapine (sedation); olanzap...</td>\n",
              "      <td>1371093139</td>\n",
              "      <td>0</td>\n",
              "    </tr>\n",
              "    <tr>\n",
              "      <th>6</th>\n",
              "      <td>333735685406224385</td>\n",
              "      <td>I take quetiapine and it's supposed to just re...</td>\n",
              "      <td>38919907</td>\n",
              "      <td>0</td>\n",
              "    </tr>\n",
              "    <tr>\n",
              "      <th>7</th>\n",
              "      <td>344937940146855937</td>\n",
              "      <td>Seroquel is pretty heavy stuff. I would've tho...</td>\n",
              "      <td>185070700</td>\n",
              "      <td>0</td>\n",
              "    </tr>\n",
              "    <tr>\n",
              "      <th>8</th>\n",
              "      <td>342112352130449409</td>\n",
              "      <td>Tell me why this kid just gave me six seroquel...</td>\n",
              "      <td>345065773</td>\n",
              "      <td>0</td>\n",
              "    </tr>\n",
              "    <tr>\n",
              "      <th>9</th>\n",
              "      <td>341680382179160065</td>\n",
              "      <td>look at the tweet near that one. I refuse to t...</td>\n",
              "      <td>38971420</td>\n",
              "      <td>0</td>\n",
              "    </tr>\n",
              "    <tr>\n",
              "      <th>10</th>\n",
              "      <td>332223414595117056</td>\n",
              "      <td>Just about dead, think it's bedtime.. Fuck you...</td>\n",
              "      <td>52782775</td>\n",
              "      <td>0</td>\n",
              "    </tr>\n",
              "    <tr>\n",
              "      <th>11</th>\n",
              "      <td>333733798787284992</td>\n",
              "      <td>I may not have weed, but I do have seroquel I ...</td>\n",
              "      <td>1373158400</td>\n",
              "      <td>1</td>\n",
              "    </tr>\n",
              "    <tr>\n",
              "      <th>12</th>\n",
              "      <td>340530953015402497</td>\n",
              "      <td>I hate to hear that. Taking seroquel is like s...</td>\n",
              "      <td>323940583</td>\n",
              "      <td>0</td>\n",
              "    </tr>\n",
              "    <tr>\n",
              "      <th>13</th>\n",
              "      <td>343565496320417792</td>\n",
              "      <td>Im bout to slip some of my seroquel into her d...</td>\n",
              "      <td>369114238</td>\n",
              "      <td>1</td>\n",
              "    </tr>\n",
              "    <tr>\n",
              "      <th>14</th>\n",
              "      <td>344277608759975936</td>\n",
              "      <td>I prescribed quetiapine to my obese patient al...</td>\n",
              "      <td>46989098</td>\n",
              "      <td>0</td>\n",
              "    </tr>\n",
              "    <tr>\n",
              "      <th>15</th>\n",
              "      <td>341178969535705088</td>\n",
              "      <td>&amp;lt; Seroquel - at high doses its for psychoti...</td>\n",
              "      <td>386313872</td>\n",
              "      <td>0</td>\n",
              "    </tr>\n",
              "    <tr>\n",
              "      <th>16</th>\n",
              "      <td>340274216471515136</td>\n",
              "      <td>but I WOULD use it if I were asleep on quetiap...</td>\n",
              "      <td>1123283994</td>\n",
              "      <td>0</td>\n",
              "    </tr>\n",
              "    <tr>\n",
              "      <th>17</th>\n",
              "      <td>329007984845926402</td>\n",
              "      <td>were on the same meds haha serequol and quetia...</td>\n",
              "      <td>857673764</td>\n",
              "      <td>0</td>\n",
              "    </tr>\n",
              "    <tr>\n",
              "      <th>18</th>\n",
              "      <td>329391569620856833</td>\n",
              "      <td>they mentioned quetiapine for me ages ago, but...</td>\n",
              "      <td>586045105</td>\n",
              "      <td>0</td>\n",
              "    </tr>\n",
              "    <tr>\n",
              "      <th>19</th>\n",
              "      <td>342143067169632256</td>\n",
              "      <td>I been knocked the fuck out yo. Like I took a ...</td>\n",
              "      <td>190770320</td>\n",
              "      <td>0</td>\n",
              "    </tr>\n",
              "    <tr>\n",
              "      <th>20</th>\n",
              "      <td>343814505706430464</td>\n",
              "      <td>Right, got a date with Ms Quetiapine and Law A...</td>\n",
              "      <td>18332340</td>\n",
              "      <td>0</td>\n",
              "    </tr>\n",
              "    <tr>\n",
              "      <th>21</th>\n",
              "      <td>341026211218194432</td>\n",
              "      <td>am and the quetiapine has failed to sedate me</td>\n",
              "      <td>1317291756</td>\n",
              "      <td>0</td>\n",
              "    </tr>\n",
              "    <tr>\n",
              "      <th>22</th>\n",
              "      <td>340134027535204352</td>\n",
              "      <td>\"I DONT TAKE MEDS IN THE MORNING! VITAMINS? SE...</td>\n",
              "      <td>425214012</td>\n",
              "      <td>0</td>\n",
              "    </tr>\n",
              "    <tr>\n",
              "      <th>23</th>\n",
              "      <td>341242496321482753</td>\n",
              "      <td>(Triggering) So... I'm taking quetiapine and t...</td>\n",
              "      <td>562490916</td>\n",
              "      <td>0</td>\n",
              "    </tr>\n",
              "    <tr>\n",
              "      <th>24</th>\n",
              "      <td>330278165765312512</td>\n",
              "      <td>I'll be on mg of Quetiapine for the next night...</td>\n",
              "      <td>273421529</td>\n",
              "      <td>0</td>\n",
              "    </tr>\n",
              "    <tr>\n",
              "      <th>25</th>\n",
              "      <td>344351386542174208</td>\n",
              "      <td>okay i took the seroquel and i am resisting th...</td>\n",
              "      <td>15147617</td>\n",
              "      <td>0</td>\n",
              "    </tr>\n",
              "    <tr>\n",
              "      <th>26</th>\n",
              "      <td>344359166556639232</td>\n",
              "      <td>: lemme suck the seroquel residue off your fin...</td>\n",
              "      <td>31061240</td>\n",
              "      <td>1</td>\n",
              "    </tr>\n",
              "    <tr>\n",
              "      <th>27</th>\n",
              "      <td>329560087259672576</td>\n",
              "      <td>Do you know what Meds are R for bipolar depres...</td>\n",
              "      <td>158119360</td>\n",
              "      <td>0</td>\n",
              "    </tr>\n",
              "    <tr>\n",
              "      <th>28</th>\n",
              "      <td>340152385051688960</td>\n",
              "      <td>ur so ignorant im at the hospital right now to...</td>\n",
              "      <td>1429295593</td>\n",
              "      <td>0</td>\n",
              "    </tr>\n",
              "    <tr>\n",
              "      <th>29</th>\n",
              "      <td>340601194655395840</td>\n",
              "      <td>Just seeing whats occurring on twitter. .while...</td>\n",
              "      <td>1449942523</td>\n",
              "      <td>0</td>\n",
              "    </tr>\n",
              "    <tr>\n",
              "      <th>...</th>\n",
              "      <td>...</td>\n",
              "      <td>...</td>\n",
              "      <td>...</td>\n",
              "      <td>...</td>\n",
              "    </tr>\n",
              "    <tr>\n",
              "      <th>2945</th>\n",
              "      <td>541062704102785024</td>\n",
              "      <td>I tried air before Seroquel but when I found i...</td>\n",
              "      <td>502126127</td>\n",
              "      <td>0</td>\n",
              "    </tr>\n",
              "    <tr>\n",
              "      <th>2946</th>\n",
              "      <td>541855078920228864</td>\n",
              "      <td>\"Because people with ADD/ADHD don't deserve to...</td>\n",
              "      <td>449961812</td>\n",
              "      <td>0</td>\n",
              "    </tr>\n",
              "    <tr>\n",
              "      <th>2947</th>\n",
              "      <td>540597014640095232</td>\n",
              "      <td>Haloti Ngata got suspended games for taking Ad...</td>\n",
              "      <td>542355930</td>\n",
              "      <td>0</td>\n",
              "    </tr>\n",
              "    <tr>\n",
              "      <th>2948</th>\n",
              "      <td>540681647482368000</td>\n",
              "      <td>half you niggas be thinking yall popping zans ...</td>\n",
              "      <td>2325682592</td>\n",
              "      <td>1</td>\n",
              "    </tr>\n",
              "    <tr>\n",
              "      <th>2949</th>\n",
              "      <td>540966927993028608</td>\n",
              "      <td>was reaching for a bottle of oxycodone pills w...</td>\n",
              "      <td>2904639999</td>\n",
              "      <td>0</td>\n",
              "    </tr>\n",
              "    <tr>\n",
              "      <th>2950</th>\n",
              "      <td>541371565003526145</td>\n",
              "      <td>Officers seized total of Oxycodone pills — -mg...</td>\n",
              "      <td>942487562</td>\n",
              "      <td>0</td>\n",
              "    </tr>\n",
              "    <tr>\n",
              "      <th>2951</th>\n",
              "      <td>540763703340056576</td>\n",
              "      <td>\": I'm going to name my first born oxycodone b...</td>\n",
              "      <td>34191550</td>\n",
              "      <td>0</td>\n",
              "    </tr>\n",
              "    <tr>\n",
              "      <th>2952</th>\n",
              "      <td>540919065385390080</td>\n",
              "      <td>seroquel is certainly powerful. i took a half ...</td>\n",
              "      <td>280230553</td>\n",
              "      <td>0</td>\n",
              "    </tr>\n",
              "    <tr>\n",
              "      <th>2953</th>\n",
              "      <td>541758583063343104</td>\n",
              "      <td>AndisGraudins RCT IbuprofPanadol w or w/out co...</td>\n",
              "      <td>980098682</td>\n",
              "      <td>0</td>\n",
              "    </tr>\n",
              "    <tr>\n",
              "      <th>2954</th>\n",
              "      <td>540743596639780864</td>\n",
              "      <td>I swore this oxycodone would've knocked me out...</td>\n",
              "      <td>188150281</td>\n",
              "      <td>0</td>\n",
              "    </tr>\n",
              "    <tr>\n",
              "      <th>2955</th>\n",
              "      <td>540596388074373120</td>\n",
              "      <td>Oxycodone also numbs the pain when watford los...</td>\n",
              "      <td>302174491</td>\n",
              "      <td>0</td>\n",
              "    </tr>\n",
              "    <tr>\n",
              "      <th>2956</th>\n",
              "      <td>541739968754761728</td>\n",
              "      <td>hey hey hey hey hey the oxycodone is startting...</td>\n",
              "      <td>525375457</td>\n",
              "      <td>0</td>\n",
              "    </tr>\n",
              "    <tr>\n",
              "      <th>2957</th>\n",
              "      <td>541131854636916736</td>\n",
              "      <td>The dreams I have while on Oxycodone are inane...</td>\n",
              "      <td>1154416777</td>\n",
              "      <td>0</td>\n",
              "    </tr>\n",
              "    <tr>\n",
              "      <th>2958</th>\n",
              "      <td>540679886307065857</td>\n",
              "      <td>killed for holding a bottle of oxycodone pills.</td>\n",
              "      <td>36519411</td>\n",
              "      <td>0</td>\n",
              "    </tr>\n",
              "    <tr>\n",
              "      <th>2959</th>\n",
              "      <td>541547716220698624</td>\n",
              "      <td>if I take my seroquel I sleep too much and if ...</td>\n",
              "      <td>421696198</td>\n",
              "      <td>0</td>\n",
              "    </tr>\n",
              "    <tr>\n",
              "      <th>2960</th>\n",
              "      <td>541017124559675393</td>\n",
              "      <td>thank you seroquel for making me sleep for hou...</td>\n",
              "      <td>1549264729</td>\n",
              "      <td>0</td>\n",
              "    </tr>\n",
              "    <tr>\n",
              "      <th>2961</th>\n",
              "      <td>541856612529750018</td>\n",
              "      <td>fuck that guy. Is Adderall really cheaper than...</td>\n",
              "      <td>939762660</td>\n",
              "      <td>0</td>\n",
              "    </tr>\n",
              "    <tr>\n",
              "      <th>2962</th>\n",
              "      <td>541722116052111360</td>\n",
              "      <td>\": Took adderall to help me focus on school bu...</td>\n",
              "      <td>40339249</td>\n",
              "      <td>0</td>\n",
              "    </tr>\n",
              "    <tr>\n",
              "      <th>2963</th>\n",
              "      <td>540634933018898432</td>\n",
              "      <td>We still don't know if the pill bottle w/ oxyc...</td>\n",
              "      <td>28476383</td>\n",
              "      <td>1</td>\n",
              "    </tr>\n",
              "    <tr>\n",
              "      <th>2964</th>\n",
              "      <td>541057303781576704</td>\n",
              "      <td>playing cards against humanity on seroquel can...</td>\n",
              "      <td>221562659</td>\n",
              "      <td>0</td>\n",
              "    </tr>\n",
              "    <tr>\n",
              "      <th>2965</th>\n",
              "      <td>541556536867168256</td>\n",
              "      <td>I'm too high on oxycodone for my tooth ache to...</td>\n",
              "      <td>22197146</td>\n",
              "      <td>0</td>\n",
              "    </tr>\n",
              "    <tr>\n",
              "      <th>2966</th>\n",
              "      <td>541870151751065600</td>\n",
              "      <td>The kind of night where I feel like I need Add...</td>\n",
              "      <td>1686924378</td>\n",
              "      <td>0</td>\n",
              "    </tr>\n",
              "    <tr>\n",
              "      <th>2967</th>\n",
              "      <td>541984407578349568</td>\n",
              "      <td>Lol! Lambert must be on a cocktail of Xanax, S...</td>\n",
              "      <td>621018967</td>\n",
              "      <td>0</td>\n",
              "    </tr>\n",
              "    <tr>\n",
              "      <th>2968</th>\n",
              "      <td>542018327359406080</td>\n",
              "      <td>What is the most potent form and delivery meth...</td>\n",
              "      <td>170357723</td>\n",
              "      <td>0</td>\n",
              "    </tr>\n",
              "    <tr>\n",
              "      <th>2969</th>\n",
              "      <td>542019095353622528</td>\n",
              "      <td>Adderall is gonna be my new best friend. Along...</td>\n",
              "      <td>430195866</td>\n",
              "      <td>0</td>\n",
              "    </tr>\n",
              "    <tr>\n",
              "      <th>2970</th>\n",
              "      <td>541858163289784320</td>\n",
              "      <td>I'm hip, but that's what my other tweet is abo...</td>\n",
              "      <td>288784938</td>\n",
              "      <td>1</td>\n",
              "    </tr>\n",
              "    <tr>\n",
              "      <th>2971</th>\n",
              "      <td>542031072171933697</td>\n",
              "      <td>My body already hates me for the copious amoun...</td>\n",
              "      <td>360382242</td>\n",
              "      <td>1</td>\n",
              "    </tr>\n",
              "    <tr>\n",
              "      <th>2972</th>\n",
              "      <td>541866635964203009</td>\n",
              "      <td>Adderall will make you check twitter plus time...</td>\n",
              "      <td>281287390</td>\n",
              "      <td>0</td>\n",
              "    </tr>\n",
              "    <tr>\n",
              "      <th>2973</th>\n",
              "      <td>541998263256485890</td>\n",
              "      <td>finals week tip: make sure u poop, pee, and ea...</td>\n",
              "      <td>867182059</td>\n",
              "      <td>1</td>\n",
              "    </tr>\n",
              "    <tr>\n",
              "      <th>2974</th>\n",
              "      <td>541886694111604736</td>\n",
              "      <td>My favorite thing about adderall is how it kee...</td>\n",
              "      <td>777096356</td>\n",
              "      <td>0</td>\n",
              "    </tr>\n",
              "  </tbody>\n",
              "</table>\n",
              "<p>2975 rows × 4 columns</p>\n",
              "</div>"
            ],
            "text/plain": [
              "                tweet_id  ... abuse\n",
              "0     333644914913079296  ...     0\n",
              "1     344825926342832128  ...     0\n",
              "2     333854289023864832  ...     0\n",
              "3     344606561873833985  ...     1\n",
              "4     341947615853813761  ...     0\n",
              "5     328655421256654849  ...     0\n",
              "6     333735685406224385  ...     0\n",
              "7     344937940146855937  ...     0\n",
              "8     342112352130449409  ...     0\n",
              "9     341680382179160065  ...     0\n",
              "10    332223414595117056  ...     0\n",
              "11    333733798787284992  ...     1\n",
              "12    340530953015402497  ...     0\n",
              "13    343565496320417792  ...     1\n",
              "14    344277608759975936  ...     0\n",
              "15    341178969535705088  ...     0\n",
              "16    340274216471515136  ...     0\n",
              "17    329007984845926402  ...     0\n",
              "18    329391569620856833  ...     0\n",
              "19    342143067169632256  ...     0\n",
              "20    343814505706430464  ...     0\n",
              "21    341026211218194432  ...     0\n",
              "22    340134027535204352  ...     0\n",
              "23    341242496321482753  ...     0\n",
              "24    330278165765312512  ...     0\n",
              "25    344351386542174208  ...     0\n",
              "26    344359166556639232  ...     1\n",
              "27    329560087259672576  ...     0\n",
              "28    340152385051688960  ...     0\n",
              "29    340601194655395840  ...     0\n",
              "...                  ...  ...   ...\n",
              "2945  541062704102785024  ...     0\n",
              "2946  541855078920228864  ...     0\n",
              "2947  540597014640095232  ...     0\n",
              "2948  540681647482368000  ...     1\n",
              "2949  540966927993028608  ...     0\n",
              "2950  541371565003526145  ...     0\n",
              "2951  540763703340056576  ...     0\n",
              "2952  540919065385390080  ...     0\n",
              "2953  541758583063343104  ...     0\n",
              "2954  540743596639780864  ...     0\n",
              "2955  540596388074373120  ...     0\n",
              "2956  541739968754761728  ...     0\n",
              "2957  541131854636916736  ...     0\n",
              "2958  540679886307065857  ...     0\n",
              "2959  541547716220698624  ...     0\n",
              "2960  541017124559675393  ...     0\n",
              "2961  541856612529750018  ...     0\n",
              "2962  541722116052111360  ...     0\n",
              "2963  540634933018898432  ...     1\n",
              "2964  541057303781576704  ...     0\n",
              "2965  541556536867168256  ...     0\n",
              "2966  541870151751065600  ...     0\n",
              "2967  541984407578349568  ...     0\n",
              "2968  542018327359406080  ...     0\n",
              "2969  542019095353622528  ...     0\n",
              "2970  541858163289784320  ...     1\n",
              "2971  542031072171933697  ...     1\n",
              "2972  541866635964203009  ...     0\n",
              "2973  541998263256485890  ...     1\n",
              "2974  541886694111604736  ...     0\n",
              "\n",
              "[2975 rows x 4 columns]"
            ]
          },
          "metadata": {
            "tags": []
          },
          "execution_count": 37
        }
      ]
    },
    {
      "cell_type": "code",
      "metadata": {
        "id": "PlY9KgvTAh1T",
        "colab_type": "code",
        "colab": {}
      },
      "source": [
        "tfidf_df['abused'] = drugTweets_df.abuse"
      ],
      "execution_count": 0,
      "outputs": []
    },
    {
      "cell_type": "markdown",
      "metadata": {
        "id": "4HgDG9_2HlXx",
        "colab_type": "text"
      },
      "source": [
        "###4.Modeling"
      ]
    },
    {
      "cell_type": "markdown",
      "metadata": {
        "id": "4ELTW7uuAtsy",
        "colab_type": "text"
      },
      "source": [
        "Data set for modeling is made through text pre-processing and creating a tf-idf matrix. In this part, we will focus on how to make classfication models."
      ]
    },
    {
      "cell_type": "markdown",
      "metadata": {
        "id": "eT1X-voMAqbt",
        "colab_type": "text"
      },
      "source": [
        "####1.Import classifiers"
      ]
    },
    {
      "cell_type": "markdown",
      "metadata": {
        "id": "FlS5E4GtBa-7",
        "colab_type": "text"
      },
      "source": [
        "Importing classification model packages.\n",
        "\n",
        "We will train KNN, SVM, Naive Bayes, and Decision tree models, and compare performance."
      ]
    },
    {
      "cell_type": "code",
      "metadata": {
        "id": "_qcSLT0BGVL-",
        "colab_type": "code",
        "colab": {}
      },
      "source": [
        "from sklearn.metrics import confusion_matrix\n",
        "from sklearn import metrics\n",
        "\n",
        "from sklearn.neighbors import KNeighborsClassifier\n",
        "from sklearn.svm import SVC  \n",
        "from sklearn.naive_bayes import GaussianNB\n",
        "from sklearn.tree import DecisionTreeClassifier\n",
        "from sklearn.model_selection import train_test_split\n",
        "import pandas as pd"
      ],
      "execution_count": 0,
      "outputs": []
    },
    {
      "cell_type": "markdown",
      "metadata": {
        "id": "HSruCEdsIOx1",
        "colab_type": "text"
      },
      "source": [
        "####2.Load DTM File and split as train & test"
      ]
    },
    {
      "cell_type": "markdown",
      "metadata": {
        "id": "f3QI-rmyEN52",
        "colab_type": "text"
      },
      "source": [
        "Use a tf-idf matrix that we made above as dataset.\n",
        "\n",
        "1.   Take a label column in dataset as y.\n",
        "2.   Split dataset as training and test set. (Training 80% / Test 20%)\n",
        "\n"
      ]
    },
    {
      "cell_type": "code",
      "metadata": {
        "id": "64U3ocCrfZfS",
        "colab_type": "code",
        "colab": {}
      },
      "source": [
        "X = tfidf_df.drop('abused', axis = 1)\n",
        "y = tfidf_df.abused\n",
        "\n",
        "\n",
        "X_train, X_test, y_train, y_test = train_test_split(X, y, test_size = 0.20, random_state = 123)"
      ],
      "execution_count": 0,
      "outputs": []
    },
    {
      "cell_type": "markdown",
      "metadata": {
        "id": "R-M34b4pG74r",
        "colab_type": "text"
      },
      "source": [
        "Check how many abuse tweets do we have on our dataset.\n",
        "\n",
        "0 is not abused one, and 1 is abused. So, we have about 15% of tweets that were labeled as abused.\n",
        "\n",
        "We can tell it is imbalanced dataset. "
      ]
    },
    {
      "cell_type": "code",
      "metadata": {
        "id": "l_Xyaih9X5Km",
        "colab_type": "code",
        "outputId": "c423f95b-5e56-4fab-e3b7-68c9b46e169a",
        "colab": {
          "base_uri": "https://localhost:8080/",
          "height": 68
        }
      },
      "source": [
        "tfidf_df.abused.value_counts()"
      ],
      "execution_count": 0,
      "outputs": [
        {
          "output_type": "execute_result",
          "data": {
            "text/plain": [
              "0    2534\n",
              "1     441\n",
              "Name: abused, dtype: int64"
            ]
          },
          "metadata": {
            "tags": []
          },
          "execution_count": 42
        }
      ]
    },
    {
      "cell_type": "markdown",
      "metadata": {
        "id": "BQNero_vJL1F",
        "colab_type": "text"
      },
      "source": [
        "####3.Resampling"
      ]
    },
    {
      "cell_type": "markdown",
      "metadata": {
        "id": "lCE4QsLJKZdz",
        "colab_type": "text"
      },
      "source": [
        "If we train models with imbalanced data, the models will be biased to predict majority class which is not aligned to the purpose of this study. In order to resolve this problem, we executed resamplings to make dataset balanced.\n",
        "\n",
        "We will apply 3 types of resampling and pick the best one.\n",
        "\n",
        "\n",
        "1. Random Over Sampling\n",
        "2. Random Under Sampling\n",
        "3. SMOTE\n",
        "\n"
      ]
    },
    {
      "cell_type": "code",
      "metadata": {
        "id": "Ojg9w34LJlh_",
        "colab_type": "code",
        "colab": {}
      },
      "source": [
        "from sklearn.utils import resample\n",
        "from collections import Counter\n",
        "from imblearn.over_sampling import RandomOverSampler\n",
        "from imblearn.under_sampling import RandomUnderSampler\n",
        "from imblearn.over_sampling import SMOTE"
      ],
      "execution_count": 0,
      "outputs": []
    },
    {
      "cell_type": "markdown",
      "metadata": {
        "id": "fUS9RLABL4zi",
        "colab_type": "text"
      },
      "source": [
        "Oversampling  (X_train_up, y_train_up)\n"
      ]
    },
    {
      "cell_type": "code",
      "metadata": {
        "id": "D0l6bKXmL5z1",
        "colab_type": "code",
        "outputId": "1da1d82b-dfbc-44ed-c40e-0cda0918203c",
        "colab": {
          "base_uri": "https://localhost:8080/",
          "height": 34
        }
      },
      "source": [
        "ros = RandomOverSampler(random_state = 123)\n",
        "X_train_up, y_train_up = ros.fit_resample(X_train, y_train)\n",
        "print(sorted(Counter(y_train_up).items()))"
      ],
      "execution_count": 0,
      "outputs": [
        {
          "output_type": "stream",
          "text": [
            "[(0, 2029), (1, 2029)]\n"
          ],
          "name": "stdout"
        }
      ]
    },
    {
      "cell_type": "markdown",
      "metadata": {
        "id": "Y6Oavkn-MHTU",
        "colab_type": "text"
      },
      "source": [
        "SMOTE (X_train_SMOTE, y_train_SMOTE)"
      ]
    },
    {
      "cell_type": "code",
      "metadata": {
        "id": "AL4nDKf5MJOI",
        "colab_type": "code",
        "outputId": "5dd4f8e2-125f-4ff5-9689-cf4b1cbcbd90",
        "colab": {
          "base_uri": "https://localhost:8080/",
          "height": 34
        }
      },
      "source": [
        "X_train_SMOTE, y_train_SMOTE = SMOTE().fit_resample(X_train, y_train)\n",
        "print(sorted(Counter(y_train_SMOTE).items()))"
      ],
      "execution_count": 0,
      "outputs": [
        {
          "output_type": "stream",
          "text": [
            "[(0, 2029), (1, 2029)]\n"
          ],
          "name": "stdout"
        }
      ]
    },
    {
      "cell_type": "markdown",
      "metadata": {
        "id": "EFMekfjxMTAm",
        "colab_type": "text"
      },
      "source": [
        "Undersampling (X_train_under, y_train_under)"
      ]
    },
    {
      "cell_type": "code",
      "metadata": {
        "id": "Hlqqvz_WMSl2",
        "colab_type": "code",
        "outputId": "31d0ac7f-44df-4516-ce61-685f45384d92",
        "colab": {
          "base_uri": "https://localhost:8080/",
          "height": 34
        }
      },
      "source": [
        "rus = RandomUnderSampler(random_state = 123)\n",
        "X_train_under, y_train_under = rus.fit_resample(X_train, y_train)\n",
        "print(sorted(Counter(y_train_under).items()))"
      ],
      "execution_count": 0,
      "outputs": [
        {
          "output_type": "stream",
          "text": [
            "[(0, 351), (1, 351)]\n"
          ],
          "name": "stdout"
        }
      ]
    },
    {
      "cell_type": "markdown",
      "metadata": {
        "id": "TACqgO5KVHjJ",
        "colab_type": "text"
      },
      "source": [
        "####4.Train and evaluate \n"
      ]
    },
    {
      "cell_type": "markdown",
      "metadata": {
        "id": "clVrztbsXgbD",
        "colab_type": "text"
      },
      "source": [
        "With oversampled data, we will train models, test on those and compare which classification model shows the best performance. \n",
        "\n",
        "Here is three functions that we made to work done easily.\n",
        "\n",
        "\n",
        "*   fit_models - Training four models(KNN, SVM, Decision Tree, Naive Bayes) with oversampled data.\n",
        "*   compare_model - Predict abused tweets based on the models trained on fit_models function.\n",
        "*   print_result - Put training and test result as inputs and compare models peformance comfortably.\n",
        "\n"
      ]
    },
    {
      "cell_type": "code",
      "metadata": {
        "id": "gHymjemcJizx",
        "colab_type": "code",
        "colab": {}
      },
      "source": [
        "def fit_models(X_train, y_train):\n",
        "  \n",
        "  knn = KNeighborsClassifier()\n",
        "  svm = SVC(kernel = 'linear', random_state = 123)\n",
        "  dt = DecisionTreeClassifier(random_state = 123)\n",
        "  nb = GaussianNB()\n",
        "\n",
        "  _models = [knn, svm, dt, nb]\n",
        "  \n",
        "  classifiers = []\n",
        "  for classifier in _models:\n",
        "    classifier.fit(X = X_train, y = y_train)\n",
        "    classifiers.append(classifier)\n",
        "    \n",
        "  return classifiers"
      ],
      "execution_count": 0,
      "outputs": []
    },
    {
      "cell_type": "code",
      "metadata": {
        "id": "m8EdbLJJKGzj",
        "colab_type": "code",
        "colab": {}
      },
      "source": [
        "def compare_models(classifiers, X, y):\n",
        "\n",
        "  reports = []\n",
        "  matrix = []\n",
        "  \n",
        "  for _classi in classifiers:\n",
        "    _predicted = _classi.predict(X = X)\n",
        "    _report = metrics.classification_report(y, _predicted)\n",
        "    _matrix = metrics.confusion_matrix(y, _predicted)\n",
        "    \n",
        "    reports.append(_report)\n",
        "    matrix.append(_matrix)\n",
        "  \n",
        "  return (reports, matrix)"
      ],
      "execution_count": 0,
      "outputs": []
    },
    {
      "cell_type": "code",
      "metadata": {
        "id": "KNKflwAlGkVb",
        "colab_type": "code",
        "colab": {}
      },
      "source": [
        "def print_result(models, train_report, test_report):\n",
        "  \n",
        "  for model, train, test in zip(models, train_report, test_report):\n",
        "    print('{:_<112}'.format(model))\n",
        "    print('{}  {}  {}'.format('train',' ' * 55, 'test'))\n",
        "    \n",
        "    train_lines = train.split('\\n')\n",
        "    test_lines = test.split('\\n')\n",
        "    \n",
        "    for train_line, test_line in zip(train_lines, test_lines):\n",
        "      print(train_line + ' ' * 5 + test_line)"
      ],
      "execution_count": 0,
      "outputs": []
    },
    {
      "cell_type": "code",
      "metadata": {
        "id": "0QQn7e2GtSrD",
        "colab_type": "code",
        "colab": {}
      },
      "source": [
        "models = ['KNN', 'SVM_Linear', 'DecisionTree','NaiveBayesian']"
      ],
      "execution_count": 0,
      "outputs": []
    },
    {
      "cell_type": "markdown",
      "metadata": {
        "id": "iaLRj8VSudh7",
        "colab_type": "text"
      },
      "source": [
        "Oversampling Result"
      ]
    },
    {
      "cell_type": "code",
      "metadata": {
        "id": "5oOM-KA3Nh8a",
        "colab_type": "code",
        "colab": {}
      },
      "source": [
        "_models_up = fit_models(X_train_up, y_train_up)\n",
        "train_report_up, train_matrix_up = compare_models(_models_up, X_train_up, y_train_up)\n",
        "test_report_up, test_matrix_up = compare_models(_models_up, X_test, y_test)"
      ],
      "execution_count": 0,
      "outputs": []
    },
    {
      "cell_type": "code",
      "metadata": {
        "id": "u0BzT4D5qTao",
        "colab_type": "code",
        "outputId": "6666ecac-8654-40c8-f291-0ffd71da63fa",
        "colab": {
          "base_uri": "https://localhost:8080/",
          "height": 765
        }
      },
      "source": [
        "print_result(models, train_report_up, test_report_up)"
      ],
      "execution_count": 0,
      "outputs": [
        {
          "output_type": "stream",
          "text": [
            "KNN_____________________________________________________________________________________________________________\n",
            "train                                                           test\n",
            "              precision    recall  f1-score   support                   precision    recall  f1-score   support\n",
            "     \n",
            "           0       0.96      0.71      0.82      2029                0       0.87      0.63      0.73       505\n",
            "           1       0.77      0.97      0.86      2029                1       0.19      0.48      0.27        90\n",
            "     \n",
            "    accuracy                           0.84      4058         accuracy                           0.61       595\n",
            "   macro avg       0.87      0.84      0.84      4058        macro avg       0.53      0.55      0.50       595\n",
            "weighted avg       0.87      0.84      0.84      4058     weighted avg       0.77      0.61      0.66       595\n",
            "     \n",
            "SVM_Linear______________________________________________________________________________________________________\n",
            "train                                                           test\n",
            "              precision    recall  f1-score   support                   precision    recall  f1-score   support\n",
            "     \n",
            "           0       0.72      0.68      0.70      2029                0       0.92      0.63      0.75       505\n",
            "           1       0.70      0.74      0.72      2029                1       0.25      0.69      0.36        90\n",
            "     \n",
            "    accuracy                           0.71      4058         accuracy                           0.64       595\n",
            "   macro avg       0.71      0.71      0.71      4058        macro avg       0.58      0.66      0.56       595\n",
            "weighted avg       0.71      0.71      0.71      4058     weighted avg       0.82      0.64      0.69       595\n",
            "     \n",
            "DecisionTree____________________________________________________________________________________________________\n",
            "train                                                           test\n",
            "              precision    recall  f1-score   support                   precision    recall  f1-score   support\n",
            "     \n",
            "           0       0.96      0.94      0.95      2029                0       0.87      0.83      0.85       505\n",
            "           1       0.95      0.96      0.95      2029                1       0.25      0.32      0.28        90\n",
            "     \n",
            "    accuracy                           0.95      4058         accuracy                           0.75       595\n",
            "   macro avg       0.95      0.95      0.95      4058        macro avg       0.56      0.57      0.56       595\n",
            "weighted avg       0.95      0.95      0.95      4058     weighted avg       0.78      0.75      0.76       595\n",
            "     \n",
            "NaiveBayesian___________________________________________________________________________________________________\n",
            "train                                                           test\n",
            "              precision    recall  f1-score   support                   precision    recall  f1-score   support\n",
            "     \n",
            "           0       0.78      0.48      0.59      2029                0       0.90      0.44      0.59       505\n",
            "           1       0.62      0.86      0.72      2029                1       0.18      0.71      0.29        90\n",
            "     \n",
            "    accuracy                           0.67      4058         accuracy                           0.48       595\n",
            "   macro avg       0.70      0.67      0.66      4058        macro avg       0.54      0.58      0.44       595\n",
            "weighted avg       0.70      0.67      0.66      4058     weighted avg       0.79      0.48      0.55       595\n",
            "     \n"
          ],
          "name": "stdout"
        }
      ]
    },
    {
      "cell_type": "markdown",
      "metadata": {
        "id": "Mbg0VYF5N8ov",
        "colab_type": "text"
      },
      "source": [
        "Undersampling Result"
      ]
    },
    {
      "cell_type": "code",
      "metadata": {
        "id": "Gk9m-ogdN9sT",
        "colab_type": "code",
        "outputId": "44749e15-1cd1-4231-d9d6-25721f0086b5",
        "colab": {
          "base_uri": "https://localhost:8080/",
          "height": 765
        }
      },
      "source": [
        "_models_under = fit_models(X_train_under, y_train_under)\n",
        "train_report_under, train_matrix_under = compare_models(_models_under, X_train_under, y_train_under)\n",
        "test_report_under, test_matrix_under = compare_models(_models_under, X_test, y_test)\n",
        "\n",
        "print_result(models, train_report_under, test_report_under)"
      ],
      "execution_count": 0,
      "outputs": [
        {
          "output_type": "stream",
          "text": [
            "KNN_____________________________________________________________________________________________________________\n",
            "train                                                           test\n",
            "              precision    recall  f1-score   support                   precision    recall  f1-score   support\n",
            "     \n",
            "           0       0.72      0.70      0.71       351                0       0.89      0.51      0.65       505\n",
            "           1       0.71      0.73      0.72       351                1       0.19      0.66      0.30        90\n",
            "     \n",
            "    accuracy                           0.72       702         accuracy                           0.53       595\n",
            "   macro avg       0.72      0.72      0.72       702        macro avg       0.54      0.58      0.47       595\n",
            "weighted avg       0.72      0.72      0.72       702     weighted avg       0.79      0.53      0.59       595\n",
            "     \n",
            "SVM_Linear______________________________________________________________________________________________________\n",
            "train                                                           test\n",
            "              precision    recall  f1-score   support                   precision    recall  f1-score   support\n",
            "     \n",
            "           0       0.78      0.71      0.74       351                0       0.93      0.55      0.69       505\n",
            "           1       0.73      0.80      0.77       351                1       0.23      0.76      0.35        90\n",
            "     \n",
            "    accuracy                           0.75       702         accuracy                           0.58       595\n",
            "   macro avg       0.76      0.75      0.75       702        macro avg       0.58      0.65      0.52       595\n",
            "weighted avg       0.76      0.75      0.75       702     weighted avg       0.82      0.58      0.64       595\n",
            "     \n",
            "DecisionTree____________________________________________________________________________________________________\n",
            "train                                                           test\n",
            "              precision    recall  f1-score   support                   precision    recall  f1-score   support\n",
            "     \n",
            "           0       0.95      0.96      0.96       351                0       0.90      0.58      0.70       505\n",
            "           1       0.96      0.95      0.96       351                1       0.21      0.63      0.32        90\n",
            "     \n",
            "    accuracy                           0.96       702         accuracy                           0.59       595\n",
            "   macro avg       0.96      0.96      0.96       702        macro avg       0.55      0.61      0.51       595\n",
            "weighted avg       0.96      0.96      0.96       702     weighted avg       0.79      0.59      0.65       595\n",
            "     \n",
            "NaiveBayesian___________________________________________________________________________________________________\n",
            "train                                                           test\n",
            "              precision    recall  f1-score   support                   precision    recall  f1-score   support\n",
            "     \n",
            "           0       0.74      0.72      0.73       351                0       0.92      0.56      0.70       505\n",
            "           1       0.73      0.75      0.74       351                1       0.22      0.71      0.34        90\n",
            "     \n",
            "    accuracy                           0.74       702         accuracy                           0.58       595\n",
            "   macro avg       0.74      0.74      0.74       702        macro avg       0.57      0.64      0.52       595\n",
            "weighted avg       0.74      0.74      0.74       702     weighted avg       0.81      0.58      0.64       595\n",
            "     \n"
          ],
          "name": "stdout"
        }
      ]
    },
    {
      "cell_type": "markdown",
      "metadata": {
        "id": "85YNPxUiWUle",
        "colab_type": "text"
      },
      "source": [
        "SMOTE Result"
      ]
    },
    {
      "cell_type": "code",
      "metadata": {
        "id": "vX4yFVQHWUFt",
        "colab_type": "code",
        "outputId": "f473c9de-3976-4fe6-cedc-ead810d28fec",
        "colab": {
          "base_uri": "https://localhost:8080/",
          "height": 765
        }
      },
      "source": [
        "_models_SMOTE = fit_models(X_train_SMOTE, y_train_SMOTE)\n",
        "train_report_SMOTE, train_matrix_SMOTE = compare_models(_models_SMOTE, X_train_SMOTE, y_train_SMOTE)\n",
        "test_report_SMOTE, test_matrix_SMOTE = compare_models(_models_SMOTE, X_test, y_test)\n",
        "\n",
        "\n",
        "print_result(models, train_report_SMOTE, test_report_SMOTE)"
      ],
      "execution_count": 0,
      "outputs": [
        {
          "output_type": "stream",
          "text": [
            "KNN_____________________________________________________________________________________________________________\n",
            "train                                                           test\n",
            "              precision    recall  f1-score   support                   precision    recall  f1-score   support\n",
            "     \n",
            "           0       0.95      0.67      0.78      2029                0       0.89      0.56      0.69       505\n",
            "           1       0.74      0.97      0.84      2029                1       0.20      0.60      0.30        90\n",
            "     \n",
            "    accuracy                           0.82      4058         accuracy                           0.57       595\n",
            "   macro avg       0.85      0.82      0.81      4058        macro avg       0.54      0.58      0.49       595\n",
            "weighted avg       0.85      0.82      0.81      4058     weighted avg       0.78      0.57      0.63       595\n",
            "     \n",
            "SVM_Linear______________________________________________________________________________________________________\n",
            "train                                                           test\n",
            "              precision    recall  f1-score   support                   precision    recall  f1-score   support\n",
            "     \n",
            "           0       0.77      0.69      0.73      2029                0       0.92      0.65      0.76       505\n",
            "           1       0.72      0.80      0.76      2029                1       0.26      0.68      0.37        90\n",
            "     \n",
            "    accuracy                           0.74      4058         accuracy                           0.66       595\n",
            "   macro avg       0.74      0.74      0.74      4058        macro avg       0.59      0.67      0.57       595\n",
            "weighted avg       0.74      0.74      0.74      4058     weighted avg       0.82      0.66      0.70       595\n",
            "     \n",
            "DecisionTree____________________________________________________________________________________________________\n",
            "train                                                           test\n",
            "              precision    recall  f1-score   support                   precision    recall  f1-score   support\n",
            "     \n",
            "           0       0.97      0.96      0.97      2029                0       0.87      0.85      0.86       505\n",
            "           1       0.96      0.97      0.97      2029                1       0.24      0.27      0.25        90\n",
            "     \n",
            "    accuracy                           0.97      4058         accuracy                           0.76       595\n",
            "   macro avg       0.97      0.97      0.97      4058        macro avg       0.55      0.56      0.56       595\n",
            "weighted avg       0.97      0.97      0.97      4058     weighted avg       0.77      0.76      0.77       595\n",
            "     \n",
            "NaiveBayesian___________________________________________________________________________________________________\n",
            "train                                                           test\n",
            "              precision    recall  f1-score   support                   precision    recall  f1-score   support\n",
            "     \n",
            "           0       0.81      0.56      0.66      2029                0       0.89      0.52      0.66       505\n",
            "           1       0.66      0.87      0.75      2029                1       0.19      0.64      0.30        90\n",
            "     \n",
            "    accuracy                           0.71      4058         accuracy                           0.54       595\n",
            "   macro avg       0.74      0.71      0.71      4058        macro avg       0.54      0.58      0.48       595\n",
            "weighted avg       0.74      0.71      0.71      4058     weighted avg       0.79      0.54      0.61       595\n",
            "     \n"
          ],
          "name": "stdout"
        }
      ]
    },
    {
      "cell_type": "markdown",
      "metadata": {
        "id": "5EUexi1Q5pxY",
        "colab_type": "text"
      },
      "source": [
        "###5.Validation"
      ]
    },
    {
      "cell_type": "markdown",
      "metadata": {
        "id": "JmyjF1chnfX-",
        "colab_type": "text"
      },
      "source": [
        "To validate our model, we run cross validation and draw ROC curve."
      ]
    },
    {
      "cell_type": "markdown",
      "metadata": {
        "id": "TikUc615ObHJ",
        "colab_type": "text"
      },
      "source": [
        "#### 1.Cross Validation"
      ]
    },
    {
      "cell_type": "markdown",
      "metadata": {
        "id": "C-jwephaPgaz",
        "colab_type": "text"
      },
      "source": [
        "Since the data is imbalanced, we adopt stratifiedKFold function that keeps class weights on spliiting data for cross validation. Also, we use f1_scorer to compare models by f1_measure, not Accuracy. "
      ]
    },
    {
      "cell_type": "code",
      "metadata": {
        "id": "5ggg1_FD2IvB",
        "colab_type": "code",
        "colab": {}
      },
      "source": [
        "from sklearn.model_selection import cross_val_score, StratifiedKFold\n",
        "from sklearn.metrics import f1_score\n",
        "from sklearn.metrics import make_scorer\n",
        "\n",
        "def cross_validation(estimators, folds, X_mat, Y_vec):\n",
        "   for estimator_name, estimator_object in estimators.items():\n",
        "      \n",
        "    f1_scorer = make_scorer(f1_score, pos_label= 1)\n",
        "    kfolds = StratifiedKFold(n_splits=folds, random_state=123, shuffle=True)\n",
        "    scores = cross_val_score(estimator=estimator_object, X=X_mat, y=Y_vec, cv=kfolds, scoring = f1_scorer)\n",
        "    print(f'{estimator_name:>20}: '\n",
        "          f'mean f1={scores.mean():.2%}; ' +\n",
        "          f'standard deviation={scores.std():.2%}')"
      ],
      "execution_count": 0,
      "outputs": []
    },
    {
      "cell_type": "code",
      "metadata": {
        "id": "BYCl-SPy1JJv",
        "colab_type": "code",
        "colab": {}
      },
      "source": [
        "estimators = {\n",
        "    'knn': KNeighborsClassifier(),\n",
        "    'svm': SVC(kernel='linear', random_state=123, class_weight = 'balanced'),\n",
        "    'dt': DecisionTreeClassifier(random_state=123),\n",
        "    'nb': GaussianNB()\n",
        "}"
      ],
      "execution_count": 0,
      "outputs": []
    },
    {
      "cell_type": "code",
      "metadata": {
        "id": "wbxnjr1wuQUf",
        "colab_type": "code",
        "colab": {}
      },
      "source": [
        "X_train_oversampled = pd.DataFrame(X_train_SMOTE, columns = X_test.columns)\n",
        "oversampled_x = pd.concat([X_test, X_train_oversampled])"
      ],
      "execution_count": 0,
      "outputs": []
    },
    {
      "cell_type": "code",
      "metadata": {
        "id": "_Rh4lqhVvuKa",
        "colab_type": "code",
        "colab": {}
      },
      "source": [
        "y_train_oversampled = pd.Series(y_train_SMOTE)\n",
        "oversampled_y = y_test.append(y_train_oversampled)"
      ],
      "execution_count": 0,
      "outputs": []
    },
    {
      "cell_type": "markdown",
      "metadata": {
        "id": "kA3JJbi9QRSq",
        "colab_type": "text"
      },
      "source": [
        "First, cross validation on oversampled data(Oversampled_training + test)"
      ]
    },
    {
      "cell_type": "code",
      "metadata": {
        "id": "4dBHIdjNwOJr",
        "colab_type": "code",
        "outputId": "a4c4bed4-d7c8-4693-93e9-95bf3c1cd2b6",
        "colab": {
          "base_uri": "https://localhost:8080/",
          "height": 85
        }
      },
      "source": [
        "cross_validation(estimators, 10, oversampled_x, oversampled_y)"
      ],
      "execution_count": 0,
      "outputs": [
        {
          "output_type": "stream",
          "text": [
            "                 knn: mean f1=76.73%; standard deviation=2.31%\n",
            "                 svm: mean f1=71.05%; standard deviation=1.61%\n",
            "                  dt: mean f1=81.23%; standard deviation=2.36%\n",
            "                  nb: mean f1=70.92%; standard deviation=1.48%\n"
          ],
          "name": "stdout"
        }
      ]
    },
    {
      "cell_type": "markdown",
      "metadata": {
        "id": "kH69m4ueQYIL",
        "colab_type": "text"
      },
      "source": [
        "Second, cross validation on Original data(training + test)"
      ]
    },
    {
      "cell_type": "code",
      "metadata": {
        "id": "Sbe_cxfL1FXw",
        "colab_type": "code",
        "outputId": "cc783c99-fd94-455d-ec26-e6b5bf03a085",
        "colab": {
          "base_uri": "https://localhost:8080/",
          "height": 85
        }
      },
      "source": [
        "cross_validation(estimators, 10, X, y)"
      ],
      "execution_count": 0,
      "outputs": [
        {
          "output_type": "stream",
          "text": [
            "                 knn: mean f1=17.79%; standard deviation=6.03%\n",
            "                 svm: mean f1=34.55%; standard deviation=6.22%\n",
            "                  dt: mean f1=23.45%; standard deviation=6.04%\n",
            "                  nb: mean f1=30.07%; standard deviation=2.58%\n"
          ],
          "name": "stdout"
        }
      ]
    },
    {
      "cell_type": "code",
      "metadata": {
        "id": "BDBRNW_kkNmB",
        "colab_type": "code",
        "colab": {}
      },
      "source": [
        "from sklearn.model_selection import GridSearchCV"
      ],
      "execution_count": 0,
      "outputs": []
    },
    {
      "cell_type": "code",
      "metadata": {
        "id": "oG6G4zgr7oKP",
        "colab_type": "code",
        "colab": {}
      },
      "source": [
        "def svm_param_selection(X, y, nfolds):\n",
        "  parameter_candidates = [\n",
        "      {'C':[1,10,100,1000], 'kernel':['linear']}\n",
        "  ]\n",
        "  f1_scorer = make_scorer(f1_score, pos_label= 1)\n",
        "  grid_search = GridSearchCV(estimator = SVC(), param_grid = parameter_candidates, cv = nfolds, scoring = f1_scorer)\n",
        "  grid_search.fit(X, y)\n",
        "  grid_search.best_params_\n",
        "  return grid_search.best_params_\n"
      ],
      "execution_count": 0,
      "outputs": []
    },
    {
      "cell_type": "code",
      "metadata": {
        "id": "AIlue1Ut9QlJ",
        "colab_type": "code",
        "colab": {}
      },
      "source": [
        "_optimized = svm_param_selection(X_train_SMOTE, y_train_SMOTE, 10)"
      ],
      "execution_count": 0,
      "outputs": []
    },
    {
      "cell_type": "code",
      "metadata": {
        "id": "_-SvDVJl9ayp",
        "colab_type": "code",
        "outputId": "23010c6d-0640-4fda-8aa3-02f9bab3acb8",
        "colab": {
          "base_uri": "https://localhost:8080/",
          "height": 34
        }
      },
      "source": [
        "_optimized"
      ],
      "execution_count": 0,
      "outputs": [
        {
          "output_type": "execute_result",
          "data": {
            "text/plain": [
              "{'C': 1000, 'kernel': 'linear'}"
            ]
          },
          "metadata": {
            "tags": []
          },
          "execution_count": 64
        }
      ]
    },
    {
      "cell_type": "code",
      "metadata": {
        "id": "vPy0PW-Y_zUf",
        "colab_type": "code",
        "outputId": "d6446d59-c1e1-4b7a-dd4e-afa8c303c83d",
        "colab": {
          "base_uri": "https://localhost:8080/",
          "height": 170
        }
      },
      "source": [
        "svm = SVC(kernel = 'linear', C = 1000, random_state = 123)\n",
        "svm.fit(X_train_SMOTE, y_train_SMOTE)\n",
        "_predicted = svm.predict(X = X_test)\n",
        "report = metrics.classification_report(y_test, _predicted)\n",
        "print(report)\n"
      ],
      "execution_count": 0,
      "outputs": [
        {
          "output_type": "stream",
          "text": [
            "              precision    recall  f1-score   support\n",
            "\n",
            "           0       0.92      0.66      0.77       505\n",
            "           1       0.26      0.66      0.37        90\n",
            "\n",
            "    accuracy                           0.66       595\n",
            "   macro avg       0.59      0.66      0.57       595\n",
            "weighted avg       0.82      0.66      0.71       595\n",
            "\n"
          ],
          "name": "stdout"
        }
      ]
    },
    {
      "cell_type": "markdown",
      "metadata": {
        "id": "YIVmnlQbSBbt",
        "colab_type": "text"
      },
      "source": [
        "#### 2.ROC curve"
      ]
    },
    {
      "cell_type": "markdown",
      "metadata": {
        "id": "EmzQFIvFOvea",
        "colab_type": "text"
      },
      "source": [
        "We looked at the Area Under the Curve (AUC) on a ROC graph to future compare the model performance. SVM outperforms the other models here as well.\n"
      ]
    },
    {
      "cell_type": "code",
      "metadata": {
        "id": "e6ft4QhcSEVd",
        "colab_type": "code",
        "colab": {}
      },
      "source": [
        "from sklearn.metrics import roc_curve, roc_auc_score\n",
        "import matplotlib.pyplot as plt\n",
        "import numpy as np\n"
      ],
      "execution_count": 0,
      "outputs": []
    },
    {
      "cell_type": "code",
      "metadata": {
        "id": "2J4OfouK_xhJ",
        "colab_type": "code",
        "colab": {}
      },
      "source": [
        "classifiers = [KNeighborsClassifier(), \n",
        "               SVC(kernel='linear', random_state=123, probability=True),\n",
        "               DecisionTreeClassifier(random_state=123),\n",
        "               GaussianNB()]\n",
        "\n",
        "\n",
        "result_table = pd.DataFrame(columns=['classifiers', 'fpr','tpr','auc'])\n",
        "names = ['KNN', 'SVM', 'DT','GausianNB']\n",
        "\n",
        "for idx in range(len(names)):\n",
        "    model = classifiers[idx].fit(X_train_SMOTE, y_train_SMOTE)\n",
        "    yproba = model.predict_proba(X_test)[::,1]\n",
        "    \n",
        "    fpr, tpr, _ = roc_curve(y_test,  yproba)\n",
        "    auc = roc_auc_score(y_test, yproba)\n",
        "    \n",
        "    result_table = result_table.append({'classifiers':names[idx],\n",
        "                                        'fpr':fpr, \n",
        "                                        'tpr':tpr, \n",
        "                                        'auc':auc}, ignore_index=True)\n"
      ],
      "execution_count": 0,
      "outputs": []
    },
    {
      "cell_type": "code",
      "metadata": {
        "id": "ifplbavBShc2",
        "colab_type": "code",
        "outputId": "b9f437da-2d7d-4a66-d3f0-32ba9e563cae",
        "colab": {
          "base_uri": "https://localhost:8080/",
          "height": 136
        }
      },
      "source": [
        "print(result_table)"
      ],
      "execution_count": 0,
      "outputs": [
        {
          "output_type": "stream",
          "text": [
            "  classifiers  ...       auc\n",
            "0         KNN  ...  0.608702\n",
            "1         SVM  ...  0.715259\n",
            "2          DT  ...  0.565886\n",
            "3   GausianNB  ...  0.601980\n",
            "\n",
            "[4 rows x 4 columns]\n"
          ],
          "name": "stdout"
        }
      ]
    },
    {
      "cell_type": "code",
      "metadata": {
        "id": "MAjJ8-nzSppA",
        "colab_type": "code",
        "outputId": "2c37f679-99c7-42be-a26b-669cbb83993c",
        "colab": {
          "base_uri": "https://localhost:8080/",
          "height": 411
        }
      },
      "source": [
        "fig = plt.figure(figsize=(8,6))\n",
        "\n",
        "for i in result_table.index:\n",
        "    plt.plot(result_table.loc[i]['fpr'],\n",
        "             result_table.loc[i]['tpr'], \n",
        "             label=\"{}. AUC={:.3f}\".format(result_table.loc[i]['classifiers'] ,result_table.loc[i]['auc']))\n",
        "\n",
        "\n",
        "plt.plot([0,1], [0,1], color='orange', linestyle='--')\n",
        "\n",
        "plt.xticks(np.arange(0.0, 1.1, step=0.1))\n",
        "plt.xlabel(\"Flase Positive Rate\", fontsize=15)\n",
        "\n",
        "plt.yticks(np.arange(0.0, 1.1, step=0.1))\n",
        "plt.ylabel(\"True Positive Rate\", fontsize=15)\n",
        "\n",
        "plt.title('ROC Curve Analysis', fontweight='bold', fontsize=15)\n",
        "plt.legend(prop={'size':13}, loc='lower right')\n",
        "\n",
        "plt.show()"
      ],
      "execution_count": 0,
      "outputs": [
        {
          "output_type": "display_data",
          "data": {
            "image/png": "[encoded data removed]",
            "text/plain": [
              "<Figure size 576x432 with 1 Axes>"
            ]
          },
          "metadata": {
            "tags": []
          }
        }
      ]
    }
  ]
}